{
 "cells": [
  {
   "cell_type": "code",
   "execution_count": 196,
   "id": "9ae2a3d9",
   "metadata": {},
   "outputs": [],
   "source": [
    "import numpy as np\n",
    "import pandas as pd\n",
    "import torch\n",
    "import torchvision\n",
    "from torch import nn\n",
    "from sklearn.model_selection import train_test_split\n",
    "from torch.utils.data import DataLoader,TensorDataset\n",
    "import torch.nn.functional as F"
   ]
  },
  {
   "cell_type": "code",
   "execution_count": 197,
   "id": "601ecddb",
   "metadata": {},
   "outputs": [
    {
     "name": "stdout",
     "output_type": "stream",
     "text": [
      "Files already downloaded and verified\n",
      "Files already downloaded and verified\n"
     ]
    }
   ],
   "source": [
    "training = torchvision.datasets.CIFAR10('./data',train=True,download=True)\n",
    "testing =  torchvision.datasets.CIFAR10('./data',train=False,download=True)\n",
    "\n",
    "\n",
    "Training_Image = torch.from_numpy(training.data).permute(0,3, 1, 2).float()\n",
    "Training_Labels = torch.LongTensor(training.targets)\n",
    "Training_Image = Training_Image / 255\n",
    "\n",
    "Testing_Image = torch.from_numpy(testing.data).permute(0,3, 1, 2).float()\n",
    "Testing_Labels =  torch.LongTensor(testing.targets)\n",
    "Testing_Image = Testing_Image/255"
   ]
  },
  {
   "cell_type": "code",
   "execution_count": 198,
   "id": "33bb243b",
   "metadata": {},
   "outputs": [
    {
     "data": {
      "text/plain": [
       "(50000, 32, 32, 3)"
      ]
     },
     "execution_count": 198,
     "metadata": {},
     "output_type": "execute_result"
    }
   ],
   "source": [
    "training.data.shape"
   ]
  },
  {
   "cell_type": "code",
   "execution_count": 199,
   "id": "f1c55798",
   "metadata": {},
   "outputs": [],
   "source": [
    "valid_data,test_data, valid_labels,test_labels = train_test_split(Testing_Image , Testing_Labels, test_size=.6)\n",
    "\n",
    "\n",
    "train_data = TensorDataset(Training_Image,Training_Labels)\n",
    "valid_data  = TensorDataset(valid_data,valid_labels)\n",
    "test_data  = TensorDataset(test_data,test_labels)\n",
    "\n",
    "Train_Loader =  DataLoader(train_data,batch_size=1024,shuffle=True,drop_last=True)\n",
    "Valid_Loader = DataLoader(valid_data,batch_size=valid_data.tensors[0].shape[0])\n",
    "Test_Loader = DataLoader(test_data,batch_size=test_data.tensors[0].shape[0])"
   ]
  },
  {
   "cell_type": "code",
   "execution_count": 200,
   "id": "33cb5443",
   "metadata": {},
   "outputs": [
    {
     "data": {
      "text/plain": [
       "50000"
      ]
     },
     "execution_count": 200,
     "metadata": {},
     "output_type": "execute_result"
    }
   ],
   "source": [
    "train_data.tensors[0].shape[0]"
   ]
  },
  {
   "cell_type": "code",
   "execution_count": 201,
   "id": "0adc3695",
   "metadata": {},
   "outputs": [],
   "source": [
    "class CifarModel(torch.nn.Module):\n",
    "    def __init__(self):\n",
    "        super(CifarModel, self).__init__()\n",
    "        \n",
    "        self.con_1 = nn.Conv2d(3,16,3)\n",
    "        \n",
    "        self.con_2 = nn.Conv2d(16,32,3)\n",
    "        \n",
    "        self.con_3 = nn.Conv2d(32,64,3)\n",
    "        \n",
    "        self.flatten = nn.Flatten()\n",
    "        \n",
    "        self.fl_1 = nn.Linear(256,128)\n",
    "        \n",
    "        self.fl_2 = nn.Linear(128,10)\n",
    "    \n",
    "    def forward(self,x):\n",
    "        \n",
    "        x = F.relu(F.max_pool2d(self.con_1(x),2))\n",
    "        \n",
    "        x = F.relu(F.max_pool2d(self.con_2(x),2))\n",
    "        \n",
    "        x = F.relu(F.max_pool2d(self.con_3(x),2))\n",
    "        \n",
    "        x = self.flatten(x)\n",
    "        \n",
    "        x = F.relu(self.fl_1(x))\n",
    "        \n",
    "        return (self.fl_2(x))\n",
    "\n",
    "net = CifarModel()\n",
    "lossfun = nn.CrossEntropyLoss()\n",
    "optimizer = torch.optim.Adam(net.parameters(),lr=.001)\n",
    "lossf = []       "
   ]
  },
  {
   "cell_type": "code",
   "execution_count": 202,
   "id": "576fa598",
   "metadata": {},
   "outputs": [
    {
     "name": "stdout",
     "output_type": "stream",
     "text": [
      "Epoch done 0 1.9080171585083008 1.9107569456100464\n",
      "Epoch done 1 1.784816861152649 1.7848401069641113\n",
      "Epoch done 2 1.7239744663238525 1.6992864608764648\n",
      "Epoch done 3 1.6460225582122803 1.6553010940551758\n",
      "Epoch done 4 1.560170292854309 1.5886582136154175\n",
      "Epoch done 5 1.5499260425567627 1.5426349639892578\n",
      "Epoch done 6 1.503045678138733 1.4954956769943237\n",
      "Epoch done 7 1.413352131843567 1.4665300846099854\n",
      "Epoch done 8 1.4083857536315918 1.4297246932983398\n",
      "Epoch done 9 1.3524895906448364 1.4171669483184814\n",
      "Epoch done 10 1.3734785318374634 1.3760467767715454\n",
      "Epoch done 11 1.3471746444702148 1.3780832290649414\n",
      "Epoch done 12 1.3411871194839478 1.3362988233566284\n",
      "Epoch done 13 1.276234745979309 1.2975300550460815\n",
      "Epoch done 14 1.2999253273010254 1.2835134267807007\n",
      "Epoch done 15 1.3707853555679321 1.2813221216201782\n",
      "Epoch done 16 1.2463470697402954 1.2604889869689941\n",
      "Epoch done 17 1.2327795028686523 1.2510595321655273\n",
      "Epoch done 18 1.2108440399169922 1.2217129468917847\n",
      "Epoch done 19 1.1335067749023438 1.2318443059921265\n",
      "Epoch done 20 1.200852632522583 1.2051986455917358\n",
      "Epoch done 21 1.1179006099700928 1.191120982170105\n",
      "Epoch done 22 1.1400177478790283 1.179283857345581\n",
      "Epoch done 23 1.119576334953308 1.161106824874878\n",
      "Epoch done 24 1.1140480041503906 1.1651279926300049\n",
      "Epoch done 25 1.0970873832702637 1.1664069890975952\n",
      "Epoch done 26 1.1215810775756836 1.1445037126541138\n",
      "Epoch done 27 1.0483191013336182 1.1354268789291382\n",
      "Epoch done 28 1.107239842414856 1.1398370265960693\n",
      "Epoch done 29 1.1357566118240356 1.1351431608200073\n",
      "Epoch done 30 1.105210781097412 1.1422243118286133\n",
      "Epoch done 31 1.0853015184402466 1.1276190280914307\n",
      "Epoch done 32 1.0695303678512573 1.1038941144943237\n",
      "Epoch done 33 1.0222924947738647 1.1269409656524658\n",
      "Epoch done 34 1.0782259702682495 1.1041314601898193\n",
      "Epoch done 35 1.0075621604919434 1.096943974494934\n",
      "Epoch done 36 1.0738526582717896 1.110264778137207\n",
      "Epoch done 37 0.9558858275413513 1.0816099643707275\n",
      "Epoch done 38 1.0412522554397583 1.0858216285705566\n",
      "Epoch done 39 1.0015456676483154 1.0734213590621948\n",
      "Epoch done 40 0.9751005172729492 1.0849359035491943\n",
      "Epoch done 41 1.0206354856491089 1.0815438032150269\n",
      "Epoch done 42 0.9929491877555847 1.0568023920059204\n",
      "Epoch done 43 1.0034465789794922 1.0697352886199951\n",
      "Epoch done 44 0.9168483018875122 1.0495274066925049\n",
      "Epoch done 45 0.918777346611023 1.0763804912567139\n",
      "Epoch done 46 0.9740648865699768 1.053768277168274\n",
      "Epoch done 47 0.9978724122047424 1.0346624851226807\n",
      "Epoch done 48 1.0000752210617065 1.0379709005355835\n",
      "Epoch done 49 1.0106217861175537 1.0325281620025635\n",
      "Epoch done 50 0.9734426736831665 1.0333863496780396\n",
      "Epoch done 51 0.9335811734199524 1.058856725692749\n",
      "Epoch done 52 0.945525050163269 1.0189647674560547\n",
      "Epoch done 53 0.90423184633255 1.0483698844909668\n",
      "Epoch done 54 0.9271644949913025 1.0185562372207642\n",
      "Epoch done 55 0.9500150680541992 1.02130126953125\n",
      "Epoch done 56 0.9228206276893616 1.0158579349517822\n",
      "Epoch done 57 0.9039737582206726 1.0124973058700562\n",
      "Epoch done 58 0.9355100393295288 1.03701651096344\n",
      "Epoch done 59 0.8440870046615601 1.0212993621826172\n",
      "Epoch done 60 0.9269847869873047 0.9974294304847717\n",
      "Epoch done 61 0.9142073392868042 1.0350254774093628\n",
      "Epoch done 62 0.9256412386894226 0.9974514842033386\n",
      "Epoch done 63 0.8822206258773804 0.9814729690551758\n",
      "Epoch done 64 0.8298856019973755 0.9978566765785217\n",
      "Epoch done 65 0.8580202460289001 0.9770345091819763\n",
      "Epoch done 66 0.8490299582481384 0.983243465423584\n",
      "Epoch done 67 0.8585029244422913 0.9847292304039001\n",
      "Epoch done 68 0.8211811184883118 0.9826424717903137\n",
      "Epoch done 69 0.8931897878646851 0.983033299446106\n",
      "Epoch done 70 0.8564174771308899 0.9736149311065674\n",
      "Epoch done 71 0.8798014521598816 0.9810736179351807\n",
      "Epoch done 72 0.8439291715621948 0.9780666828155518\n",
      "Epoch done 73 0.7577749490737915 0.9759421348571777\n",
      "Epoch done 74 0.8338665962219238 0.9652075171470642\n",
      "Epoch done 75 0.8857333064079285 0.9871980547904968\n",
      "Epoch done 76 0.8402689099311829 0.9650363922119141\n",
      "Epoch done 77 0.7829793691635132 0.9578025341033936\n",
      "Epoch done 78 0.7755308151245117 0.9969781041145325\n",
      "Epoch done 79 0.8206861019134521 0.9579576849937439\n",
      "Epoch done 80 0.8161931037902832 0.9764032959938049\n",
      "Epoch done 81 0.7886893153190613 0.9603040814399719\n",
      "Epoch done 82 0.7913833260536194 0.9544419050216675\n",
      "Epoch done 83 0.8122093677520752 0.9577686190605164\n",
      "Epoch done 84 0.7623275518417358 0.9521088600158691\n",
      "Epoch done 85 0.7924495339393616 0.9583851099014282\n",
      "Epoch done 86 0.7608407139778137 0.973953902721405\n",
      "Epoch done 87 0.8214540481567383 0.9503418803215027\n",
      "Epoch done 88 0.7581881284713745 0.9638196229934692\n",
      "Epoch done 89 0.7402569651603699 0.9780785441398621\n",
      "Epoch done 90 0.7488871216773987 0.9479426741600037\n",
      "Epoch done 91 0.7774519920349121 0.9403135776519775\n",
      "Epoch done 92 0.8030200600624084 0.9490290880203247\n",
      "Epoch done 93 0.7213467955589294 0.9422160387039185\n",
      "Epoch done 94 0.8153776526451111 0.9597360491752625\n",
      "Epoch done 95 0.7544349431991577 0.9461559653282166\n",
      "Epoch done 96 0.6971026659011841 0.9369195103645325\n",
      "Epoch done 97 0.7413063645362854 0.9557566046714783\n",
      "Epoch done 98 0.7598960399627686 0.9500952959060669\n",
      "Epoch done 99 0.7395111322402954 0.940385103225708\n"
     ]
    }
   ],
   "source": [
    "for epochs in range(100):\n",
    "    \n",
    "  \n",
    "    \n",
    "    for X,y in Train_Loader:\n",
    "        \n",
    "        yhat  = net(X)\n",
    "        loss = lossfun(yhat,y)\n",
    "        \n",
    "        optimizer.zero_grad()\n",
    "        \n",
    "        loss.backward()\n",
    "        \n",
    "        optimizer.step()\n",
    "        \n",
    "    x_1,y_1 = next(iter(Valid_Loader))\n",
    "    \n",
    "    vhat  = net(x_1)\n",
    "    \n",
    "    lossf.append(lossfun(vhat,y_1).item())\n",
    "    \n",
    "    print(\"Epoch done\",epochs,loss.item(),lossf[-1])"
   ]
  },
  {
   "cell_type": "code",
   "execution_count": 203,
   "id": "05e9eb33",
   "metadata": {},
   "outputs": [
    {
     "name": "stdout",
     "output_type": "stream",
     "text": [
      "68.4499979019165\n"
     ]
    },
    {
     "data": {
      "text/plain": [
       "<AxesSubplot:>"
      ]
     },
     "execution_count": 203,
     "metadata": {},
     "output_type": "execute_result"
    },
    {
     "data": {
      "image/png": "[encoded data removed]",
      "text/plain": [
       "<Figure size 432x288 with 1 Axes>"
      ]
     },
     "metadata": {
      "needs_background": "light"
     },
     "output_type": "display_data"
    }
   ],
   "source": [
    "x_1,y_1 = next(iter(Test_Loader))\n",
    "yhat  = net(x_1)\n",
    "\n",
    "print(100*torch.mean((torch.argmax(yhat,axis=1) == y_1).float()).item())\n",
    "\n",
    "pd.Series(lossf).plot()"
   ]
  },
  {
   "cell_type": "code",
   "execution_count": null,
   "id": "23503013",
   "metadata": {},
   "outputs": [],
   "source": []
  },
  {
   "cell_type": "code",
   "execution_count": null,
   "id": "47e82f19",
   "metadata": {},
   "outputs": [],
   "source": []
  },
  {
   "cell_type": "code",
   "execution_count": 164,
   "id": "560c6b73",
   "metadata": {},
   "outputs": [],
   "source": [
    "# transformation = torchvision.transforms.Compose([\n",
    "#     torchvision.transforms.RandomRotation(30),\n",
    "#     torchvision.transforms.RandomHorizontalFlip(),\n",
    "#     torchvision.transforms.RandomVerticalFlip(),\n",
    "#     torchvision.transforms.CenterCrop(10),\n",
    "#     torchvision.transforms.ToTensor()\n",
    "#     ]\n",
    "# )\n",
    "# lossf\n",
    "# net(next(iter(Train_Loader))[0]).shape"
   ]
  },
  {
   "cell_type": "code",
   "execution_count": null,
   "id": "90293ccf",
   "metadata": {},
   "outputs": [],
   "source": []
  },
  {
   "cell_type": "code",
   "execution_count": null,
   "id": "fe40025d",
   "metadata": {},
   "outputs": [],
   "source": []
  },
  {
   "cell_type": "code",
   "execution_count": null,
   "id": "8374d5ba",
   "metadata": {},
   "outputs": [],
   "source": []
  }
 ],
 "metadata": {
  "kernelspec": {
   "display_name": "Python 3 (ipykernel)",
   "language": "python",
   "name": "python3"
  },
  "language_info": {
   "codemirror_mode": {
    "name": "ipython",
    "version": 3
   },
   "file_extension": ".py",
   "mimetype": "text/x-python",
   "name": "python",
   "nbconvert_exporter": "python",
   "pygments_lexer": "ipython3",
   "version": "3.9.12"
  }
 },
 "nbformat": 4,
 "nbformat_minor": 5
}
