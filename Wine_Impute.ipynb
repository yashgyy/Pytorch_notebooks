{
  "nbformat": 4,
  "nbformat_minor": 0,
  "metadata": {
    "colab": {
      "name": "Wine_Impute.ipynb",
      "provenance": []
    },
    "kernelspec": {
      "name": "python3",
      "display_name": "Python 3"
    },
    "language_info": {
      "name": "python"
    }
  },
  "cells": [
    {
      "cell_type": "code",
      "execution_count": 193,
      "metadata": {
        "id": "sczBJOhpAmLj"
      },
      "outputs": [],
      "source": [
        "### import libraries\n",
        "\n",
        "# for DL modeling\n",
        "import torch\n",
        "import torch.nn as nn\n",
        "import torch.nn.functional as F\n",
        "from torch.utils.data import DataLoader,TensorDataset\n",
        "\n",
        "# for number-crunching\n",
        "import numpy as np\n",
        "\n",
        "import copy\n",
        "import random\n",
        "\n",
        "# for dataset management\n",
        "import pandas as pd\n",
        "\n",
        "# for data visualization\n",
        "import matplotlib.pyplot as plt\n",
        "from IPython.display import set_matplotlib_formats\n",
        "set_matplotlib_formats('svg')\n",
        "import seaborn as sns\n",
        "\n",
        "from sklearn.preprocessing import StandardScaler"
      ]
    },
    {
      "cell_type": "code",
      "source": [
        "# import the data\n",
        "url  = \"https://archive.ics.uci.edu/ml/machine-learning-databases/wine-quality/winequality-red.csv\"\n",
        "data = pd.read_csv(url,sep=';')"
      ],
      "metadata": {
        "id": "ippS6QMWCR1Y"
      },
      "execution_count": 194,
      "outputs": []
    },
    {
      "cell_type": "code",
      "source": [
        "data.shape"
      ],
      "metadata": {
        "colab": {
          "base_uri": "https://localhost:8080/"
        },
        "id": "9YqACvc5CTWf",
        "outputId": "6f763f82-e384-4c15-a631-1076c6c58271"
      },
      "execution_count": 195,
      "outputs": [
        {
          "output_type": "execute_result",
          "data": {
            "text/plain": [
              "(1599, 12)"
            ]
          },
          "metadata": {},
          "execution_count": 195
        }
      ]
    },
    {
      "cell_type": "code",
      "source": [
        "Listing = []\n",
        "Original_Values = []\n",
        "for values in range(10):\n",
        "  Listing.append(random.randint(1,1599))"
      ],
      "metadata": {
        "id": "8JYRheFcEq_P"
      },
      "execution_count": 196,
      "outputs": []
    },
    {
      "cell_type": "code",
      "source": [
        "# for index in Listing:\n",
        "#   Original_Values.append(data.loc[index,'residual sugar'])a"
      ],
      "metadata": {
        "id": "dbwCinzaEwHC"
      },
      "execution_count": 197,
      "outputs": []
    },
    {
      "cell_type": "code",
      "source": [
        "data1 = copy.deepcopy(data)\n",
        "data = data.drop(Listing,axis=0)\n",
        "Missing_Values = copy.deepcopy(data1.iloc[Listing,:])\n",
        "Original_Values = Missing_Values['residual sugar']\n",
        "Missing_Values = Missing_Values.drop('residual sugar',axis=1)"
      ],
      "metadata": {
        "id": "PSxc6EuBFAM4"
      },
      "execution_count": 198,
      "outputs": []
    },
    {
      "cell_type": "code",
      "source": [
        "Missing_Values"
      ],
      "metadata": {
        "id": "TLHLwCQHNfXN",
        "outputId": "a4f0e31f-df4f-4db2-8a7a-f1f89bd25758",
        "colab": {
          "base_uri": "https://localhost:8080/",
          "height": 407
        }
      },
      "execution_count": 199,
      "outputs": [
        {
          "output_type": "execute_result",
          "data": {
            "text/plain": [
              "      fixed acidity  volatile acidity  citric acid  chlorides  \\\n",
              "754             7.8             0.480         0.68      0.415   \n",
              "643             9.5             0.590         0.44      0.071   \n",
              "772             9.5             0.570         0.27      0.082   \n",
              "13              7.8             0.610         0.29      0.114   \n",
              "1495            7.0             0.430         0.02      0.080   \n",
              "1059            8.9             0.480         0.53      0.101   \n",
              "51              6.6             0.520         0.04      0.069   \n",
              "1108            8.1             0.780         0.10      0.090   \n",
              "63              7.0             0.735         0.05      0.081   \n",
              "880             9.2             0.560         0.18      0.078   \n",
              "\n",
              "      free sulfur dioxide  total sulfur dioxide  density    pH  sulphates  \\\n",
              "754                  14.0                  32.0  0.99656  3.09       1.06   \n",
              "643                  21.0                  68.0  0.99920  3.46       0.63   \n",
              "772                  23.0                 144.0  0.99782  3.27       0.55   \n",
              "13                    9.0                  29.0  0.99740  3.26       1.56   \n",
              "1495                 15.0                  28.0  0.99492  3.35       0.81   \n",
              "1059                  3.0                  10.0  0.99586  3.21       0.59   \n",
              "51                    8.0                  15.0  0.99560  3.40       0.63   \n",
              "1108                  4.0                  13.0  0.99855  3.36       0.49   \n",
              "63                   13.0                  54.0  0.99660  3.39       0.57   \n",
              "880                  10.0                  21.0  0.99576  3.15       0.49   \n",
              "\n",
              "      alcohol  quality  \n",
              "754       9.1        6  \n",
              "643       9.5        5  \n",
              "772       9.4        5  \n",
              "13        9.1        5  \n",
              "1495     10.6        6  \n",
              "1059     12.1        7  \n",
              "51        9.4        6  \n",
              "1108      9.5        5  \n",
              "63        9.8        5  \n",
              "880       9.9        5  "
            ],
            "text/html": [
              "\n",
              "  <div id=\"df-423053c7-44b4-4e33-b00c-9a34f00dcb9a\">\n",
              "    <div class=\"colab-df-container\">\n",
              "      <div>\n",
              "<style scoped>\n",
              "    .dataframe tbody tr th:only-of-type {\n",
              "        vertical-align: middle;\n",
              "    }\n",
              "\n",
              "    .dataframe tbody tr th {\n",
              "        vertical-align: top;\n",
              "    }\n",
              "\n",
              "    .dataframe thead th {\n",
              "        text-align: right;\n",
              "    }\n",
              "</style>\n",
              "<table border=\"1\" class=\"dataframe\">\n",
              "  <thead>\n",
              "    <tr style=\"text-align: right;\">\n",
              "      <th></th>\n",
              "      <th>fixed acidity</th>\n",
              "      <th>volatile acidity</th>\n",
              "      <th>citric acid</th>\n",
              "      <th>chlorides</th>\n",
              "      <th>free sulfur dioxide</th>\n",
              "      <th>total sulfur dioxide</th>\n",
              "      <th>density</th>\n",
              "      <th>pH</th>\n",
              "      <th>sulphates</th>\n",
              "      <th>alcohol</th>\n",
              "      <th>quality</th>\n",
              "    </tr>\n",
              "  </thead>\n",
              "  <tbody>\n",
              "    <tr>\n",
              "      <th>754</th>\n",
              "      <td>7.8</td>\n",
              "      <td>0.480</td>\n",
              "      <td>0.68</td>\n",
              "      <td>0.415</td>\n",
              "      <td>14.0</td>\n",
              "      <td>32.0</td>\n",
              "      <td>0.99656</td>\n",
              "      <td>3.09</td>\n",
              "      <td>1.06</td>\n",
              "      <td>9.1</td>\n",
              "      <td>6</td>\n",
              "    </tr>\n",
              "    <tr>\n",
              "      <th>643</th>\n",
              "      <td>9.5</td>\n",
              "      <td>0.590</td>\n",
              "      <td>0.44</td>\n",
              "      <td>0.071</td>\n",
              "      <td>21.0</td>\n",
              "      <td>68.0</td>\n",
              "      <td>0.99920</td>\n",
              "      <td>3.46</td>\n",
              "      <td>0.63</td>\n",
              "      <td>9.5</td>\n",
              "      <td>5</td>\n",
              "    </tr>\n",
              "    <tr>\n",
              "      <th>772</th>\n",
              "      <td>9.5</td>\n",
              "      <td>0.570</td>\n",
              "      <td>0.27</td>\n",
              "      <td>0.082</td>\n",
              "      <td>23.0</td>\n",
              "      <td>144.0</td>\n",
              "      <td>0.99782</td>\n",
              "      <td>3.27</td>\n",
              "      <td>0.55</td>\n",
              "      <td>9.4</td>\n",
              "      <td>5</td>\n",
              "    </tr>\n",
              "    <tr>\n",
              "      <th>13</th>\n",
              "      <td>7.8</td>\n",
              "      <td>0.610</td>\n",
              "      <td>0.29</td>\n",
              "      <td>0.114</td>\n",
              "      <td>9.0</td>\n",
              "      <td>29.0</td>\n",
              "      <td>0.99740</td>\n",
              "      <td>3.26</td>\n",
              "      <td>1.56</td>\n",
              "      <td>9.1</td>\n",
              "      <td>5</td>\n",
              "    </tr>\n",
              "    <tr>\n",
              "      <th>1495</th>\n",
              "      <td>7.0</td>\n",
              "      <td>0.430</td>\n",
              "      <td>0.02</td>\n",
              "      <td>0.080</td>\n",
              "      <td>15.0</td>\n",
              "      <td>28.0</td>\n",
              "      <td>0.99492</td>\n",
              "      <td>3.35</td>\n",
              "      <td>0.81</td>\n",
              "      <td>10.6</td>\n",
              "      <td>6</td>\n",
              "    </tr>\n",
              "    <tr>\n",
              "      <th>1059</th>\n",
              "      <td>8.9</td>\n",
              "      <td>0.480</td>\n",
              "      <td>0.53</td>\n",
              "      <td>0.101</td>\n",
              "      <td>3.0</td>\n",
              "      <td>10.0</td>\n",
              "      <td>0.99586</td>\n",
              "      <td>3.21</td>\n",
              "      <td>0.59</td>\n",
              "      <td>12.1</td>\n",
              "      <td>7</td>\n",
              "    </tr>\n",
              "    <tr>\n",
              "      <th>51</th>\n",
              "      <td>6.6</td>\n",
              "      <td>0.520</td>\n",
              "      <td>0.04</td>\n",
              "      <td>0.069</td>\n",
              "      <td>8.0</td>\n",
              "      <td>15.0</td>\n",
              "      <td>0.99560</td>\n",
              "      <td>3.40</td>\n",
              "      <td>0.63</td>\n",
              "      <td>9.4</td>\n",
              "      <td>6</td>\n",
              "    </tr>\n",
              "    <tr>\n",
              "      <th>1108</th>\n",
              "      <td>8.1</td>\n",
              "      <td>0.780</td>\n",
              "      <td>0.10</td>\n",
              "      <td>0.090</td>\n",
              "      <td>4.0</td>\n",
              "      <td>13.0</td>\n",
              "      <td>0.99855</td>\n",
              "      <td>3.36</td>\n",
              "      <td>0.49</td>\n",
              "      <td>9.5</td>\n",
              "      <td>5</td>\n",
              "    </tr>\n",
              "    <tr>\n",
              "      <th>63</th>\n",
              "      <td>7.0</td>\n",
              "      <td>0.735</td>\n",
              "      <td>0.05</td>\n",
              "      <td>0.081</td>\n",
              "      <td>13.0</td>\n",
              "      <td>54.0</td>\n",
              "      <td>0.99660</td>\n",
              "      <td>3.39</td>\n",
              "      <td>0.57</td>\n",
              "      <td>9.8</td>\n",
              "      <td>5</td>\n",
              "    </tr>\n",
              "    <tr>\n",
              "      <th>880</th>\n",
              "      <td>9.2</td>\n",
              "      <td>0.560</td>\n",
              "      <td>0.18</td>\n",
              "      <td>0.078</td>\n",
              "      <td>10.0</td>\n",
              "      <td>21.0</td>\n",
              "      <td>0.99576</td>\n",
              "      <td>3.15</td>\n",
              "      <td>0.49</td>\n",
              "      <td>9.9</td>\n",
              "      <td>5</td>\n",
              "    </tr>\n",
              "  </tbody>\n",
              "</table>\n",
              "</div>\n",
              "      <button class=\"colab-df-convert\" onclick=\"convertToInteractive('df-423053c7-44b4-4e33-b00c-9a34f00dcb9a')\"\n",
              "              title=\"Convert this dataframe to an interactive table.\"\n",
              "              style=\"display:none;\">\n",
              "        \n",
              "  <svg xmlns=\"http://www.w3.org/2000/svg\" height=\"24px\"viewBox=\"0 0 24 24\"\n",
              "       width=\"24px\">\n",
              "    <path d=\"M0 0h24v24H0V0z\" fill=\"none\"/>\n",
              "    <path d=\"M18.56 5.44l.94 2.06.94-2.06 2.06-.94-2.06-.94-.94-2.06-.94 2.06-2.06.94zm-11 1L8.5 8.5l.94-2.06 2.06-.94-2.06-.94L8.5 2.5l-.94 2.06-2.06.94zm10 10l.94 2.06.94-2.06 2.06-.94-2.06-.94-.94-2.06-.94 2.06-2.06.94z\"/><path d=\"M17.41 7.96l-1.37-1.37c-.4-.4-.92-.59-1.43-.59-.52 0-1.04.2-1.43.59L10.3 9.45l-7.72 7.72c-.78.78-.78 2.05 0 2.83L4 21.41c.39.39.9.59 1.41.59.51 0 1.02-.2 1.41-.59l7.78-7.78 2.81-2.81c.8-.78.8-2.07 0-2.86zM5.41 20L4 18.59l7.72-7.72 1.47 1.35L5.41 20z\"/>\n",
              "  </svg>\n",
              "      </button>\n",
              "      \n",
              "  <style>\n",
              "    .colab-df-container {\n",
              "      display:flex;\n",
              "      flex-wrap:wrap;\n",
              "      gap: 12px;\n",
              "    }\n",
              "\n",
              "    .colab-df-convert {\n",
              "      background-color: #E8F0FE;\n",
              "      border: none;\n",
              "      border-radius: 50%;\n",
              "      cursor: pointer;\n",
              "      display: none;\n",
              "      fill: #1967D2;\n",
              "      height: 32px;\n",
              "      padding: 0 0 0 0;\n",
              "      width: 32px;\n",
              "    }\n",
              "\n",
              "    .colab-df-convert:hover {\n",
              "      background-color: #E2EBFA;\n",
              "      box-shadow: 0px 1px 2px rgba(60, 64, 67, 0.3), 0px 1px 3px 1px rgba(60, 64, 67, 0.15);\n",
              "      fill: #174EA6;\n",
              "    }\n",
              "\n",
              "    [theme=dark] .colab-df-convert {\n",
              "      background-color: #3B4455;\n",
              "      fill: #D2E3FC;\n",
              "    }\n",
              "\n",
              "    [theme=dark] .colab-df-convert:hover {\n",
              "      background-color: #434B5C;\n",
              "      box-shadow: 0px 1px 3px 1px rgba(0, 0, 0, 0.15);\n",
              "      filter: drop-shadow(0px 1px 2px rgba(0, 0, 0, 0.3));\n",
              "      fill: #FFFFFF;\n",
              "    }\n",
              "  </style>\n",
              "\n",
              "      <script>\n",
              "        const buttonEl =\n",
              "          document.querySelector('#df-423053c7-44b4-4e33-b00c-9a34f00dcb9a button.colab-df-convert');\n",
              "        buttonEl.style.display =\n",
              "          google.colab.kernel.accessAllowed ? 'block' : 'none';\n",
              "\n",
              "        async function convertToInteractive(key) {\n",
              "          const element = document.querySelector('#df-423053c7-44b4-4e33-b00c-9a34f00dcb9a');\n",
              "          const dataTable =\n",
              "            await google.colab.kernel.invokeFunction('convertToInteractive',\n",
              "                                                     [key], {});\n",
              "          if (!dataTable) return;\n",
              "\n",
              "          const docLinkHtml = 'Like what you see? Visit the ' +\n",
              "            '<a target=\"_blank\" href=https://colab.research.google.com/notebooks/data_table.ipynb>data table notebook</a>'\n",
              "            + ' to learn more about interactive tables.';\n",
              "          element.innerHTML = '';\n",
              "          dataTable['output_type'] = 'display_data';\n",
              "          await google.colab.output.renderOutput(dataTable, element);\n",
              "          const docLink = document.createElement('div');\n",
              "          docLink.innerHTML = docLinkHtml;\n",
              "          element.appendChild(docLink);\n",
              "        }\n",
              "      </script>\n",
              "    </div>\n",
              "  </div>\n",
              "  "
            ]
          },
          "metadata": {},
          "execution_count": 199
        }
      ]
    },
    {
      "cell_type": "code",
      "source": [
        "Values = data['residual sugar']\n",
        "Values = Values[:,None]\n",
        "Features = data.drop('residual sugar',axis=1)\n",
        "scaler = StandardScaler()\n",
        "\n",
        "scaler.fit(Features)\n",
        "Features = scaler.transform(Features)\n",
        "Missing_Values = scaler.transform(Missing_Values)"
      ],
      "metadata": {
        "colab": {
          "base_uri": "https://localhost:8080/"
        },
        "id": "yh-gVl4-FSkV",
        "outputId": "7857bfc0-c80c-48d1-fc80-dd8f705236fd"
      },
      "execution_count": 200,
      "outputs": [
        {
          "output_type": "stream",
          "name": "stderr",
          "text": [
            "/usr/local/lib/python3.7/dist-packages/ipykernel_launcher.py:2: FutureWarning: Support for multi-dimensional indexing (e.g. `obj[:, None]`) is deprecated and will be removed in a future version.  Convert to a numpy array before indexing instead.\n",
            "  \n"
          ]
        }
      ]
    },
    {
      "cell_type": "code",
      "source": [
        "Features = torch.Tensor(Features).float()\n",
        "Values = torch.Tensor(Values).float()\n",
        "\n",
        "Missing_Values = torch.Tensor(Missing_Values).float()"
      ],
      "metadata": {
        "id": "wZFpyaYVH5sE"
      },
      "execution_count": 201,
      "outputs": []
    },
    {
      "cell_type": "code",
      "source": [
        "Dataset = TensorDataset(Features,Values)\n",
        "Loader = DataLoader(Dataset,batch_size=Dataset.tensors[0].shape[0])"
      ],
      "metadata": {
        "id": "jAkvWksXGh0u"
      },
      "execution_count": 202,
      "outputs": []
    },
    {
      "cell_type": "code",
      "source": [
        "net = nn.Sequential(\n",
        "    nn.Linear(11,16),\n",
        "    nn.ReLU(),\n",
        "    nn.Linear(16,32),\n",
        "    nn.ReLU(),\n",
        "    nn.Linear(32,8),\n",
        "    nn.ReLU(),\n",
        "    nn.Linear(8,1)\n",
        ")\n"
      ],
      "metadata": {
        "id": "Nm1U-1A4Gswi"
      },
      "execution_count": 221,
      "outputs": []
    },
    {
      "cell_type": "code",
      "source": [
        "print(net)"
      ],
      "metadata": {
        "colab": {
          "base_uri": "https://localhost:8080/"
        },
        "id": "6ha5HIXyG6tL",
        "outputId": "e405505c-bd0f-45ee-aac3-3a192c5d8479"
      },
      "execution_count": 222,
      "outputs": [
        {
          "output_type": "stream",
          "name": "stdout",
          "text": [
            "Sequential(\n",
            "  (0): Linear(in_features=11, out_features=16, bias=True)\n",
            "  (1): ReLU()\n",
            "  (2): Linear(in_features=16, out_features=32, bias=True)\n",
            "  (3): ReLU()\n",
            "  (4): Linear(in_features=32, out_features=8, bias=True)\n",
            "  (5): ReLU()\n",
            "  (6): Linear(in_features=8, out_features=1, bias=True)\n",
            ")\n"
          ]
        }
      ]
    },
    {
      "cell_type": "code",
      "source": [
        "loss = nn.MSELoss()\n",
        "optimizer = torch.optim.Adam(net.parameters(),lr=0.01)"
      ],
      "metadata": {
        "id": "OApDu3ZlIP5C"
      },
      "execution_count": 223,
      "outputs": []
    },
    {
      "cell_type": "code",
      "source": [
        "losses = []\n",
        "for epochs in range(2000):\n",
        "\n",
        "  X,y = next(iter(Loader))\n",
        "\n",
        "  yHat = net(X)\n",
        "  lossfn = loss(yHat,y)\n",
        "\n",
        "  optimizer.zero_grad()\n",
        "  lossfn.backward()\n",
        "  optimizer.step()\n",
        "\n",
        "  losses.append(lossfn.item())\n"
      ],
      "metadata": {
        "id": "XYW7riBdJkez"
      },
      "execution_count": 232,
      "outputs": []
    },
    {
      "cell_type": "code",
      "source": [
        "import pandas as pd\n",
        "pd.Series(losses).plot()"
      ],
      "metadata": {
        "id": "BQQeD-zeLFs2",
        "outputId": "b389b9ee-b441-4896-eb9f-904a1becfbe0",
        "colab": {
          "base_uri": "https://localhost:8080/",
          "height": 370
        }
      },
      "execution_count": 233,
      "outputs": [
        {
          "output_type": "execute_result",
          "data": {
            "text/plain": [
              "<matplotlib.axes._subplots.AxesSubplot at 0x7faffc698350>"
            ]
          },
          "metadata": {},
          "execution_count": 233
        },
        {
          "output_type": "display_data",
          "data": {
            "text/plain": [
              "<Figure size 432x288 with 1 Axes>"
            ],
            "image/svg+xml": "<?xml version=\"1.0\" encoding=\"utf-8\" standalone=\"no\"?>\n<!DOCTYPE svg PUBLIC \"-//W3C//DTD SVG 1.1//EN\"\n  \"http://www.w3.org/Graphics/SVG/1.1/DTD/svg11.dtd\">\n<!-- Created with matplotlib (https://matplotlib.org/) -->\n<svg height=\"248.518125pt\" version=\"1.1\" viewBox=\"0 0 378.465625 248.518125\" width=\"378.465625pt\" xmlns=\"http://www.w3.org/2000/svg\" xmlns:xlink=\"http://www.w3.org/1999/xlink\">\n <defs>\n  <style type=\"text/css\">\n*{stroke-linecap:butt;stroke-linejoin:round;}\n  </style>\n </defs>\n <g id=\"figure_1\">\n  <g id=\"patch_1\">\n   <path d=\"M 0 248.518125 \nL 378.465625 248.518125 \nL 378.465625 0 \nL 0 0 \nz\n\" style=\"fill:none;\"/>\n  </g>\n  <g id=\"axes_1\">\n   <g id=\"patch_2\">\n    <path d=\"M 36.465625 224.64 \nL 371.265625 224.64 \nL 371.265625 7.2 \nL 36.465625 7.2 \nz\n\" style=\"fill:#ffffff;\"/>\n   </g>\n   <g id=\"matplotlib.axis_1\">\n    <g id=\"xtick_1\">\n     <g id=\"line2d_1\">\n      <defs>\n       <path d=\"M 0 0 \nL 0 3.5 \n\" id=\"m7acbb868bb\" style=\"stroke:#000000;stroke-width:0.8;\"/>\n      </defs>\n      <g>\n       <use style=\"stroke:#000000;stroke-width:0.8;\" x=\"51.683807\" xlink:href=\"#m7acbb868bb\" y=\"224.64\"/>\n      </g>\n     </g>\n     <g id=\"text_1\">\n      <!-- 0 -->\n      <defs>\n       <path d=\"M 31.78125 66.40625 \nQ 24.171875 66.40625 20.328125 58.90625 \nQ 16.5 51.421875 16.5 36.375 \nQ 16.5 21.390625 20.328125 13.890625 \nQ 24.171875 6.390625 31.78125 6.390625 \nQ 39.453125 6.390625 43.28125 13.890625 \nQ 47.125 21.390625 47.125 36.375 \nQ 47.125 51.421875 43.28125 58.90625 \nQ 39.453125 66.40625 31.78125 66.40625 \nz\nM 31.78125 74.21875 \nQ 44.046875 74.21875 50.515625 64.515625 \nQ 56.984375 54.828125 56.984375 36.375 \nQ 56.984375 17.96875 50.515625 8.265625 \nQ 44.046875 -1.421875 31.78125 -1.421875 \nQ 19.53125 -1.421875 13.0625 8.265625 \nQ 6.59375 17.96875 6.59375 36.375 \nQ 6.59375 54.828125 13.0625 64.515625 \nQ 19.53125 74.21875 31.78125 74.21875 \nz\n\" id=\"DejaVuSans-48\"/>\n      </defs>\n      <g transform=\"translate(48.502557 239.238437)scale(0.1 -0.1)\">\n       <use xlink:href=\"#DejaVuSans-48\"/>\n      </g>\n     </g>\n    </g>\n    <g id=\"xtick_2\">\n     <g id=\"line2d_2\">\n      <g>\n       <use style=\"stroke:#000000;stroke-width:0.8;\" x=\"89.748294\" xlink:href=\"#m7acbb868bb\" y=\"224.64\"/>\n      </g>\n     </g>\n     <g id=\"text_2\">\n      <!-- 250 -->\n      <defs>\n       <path d=\"M 19.1875 8.296875 \nL 53.609375 8.296875 \nL 53.609375 0 \nL 7.328125 0 \nL 7.328125 8.296875 \nQ 12.9375 14.109375 22.625 23.890625 \nQ 32.328125 33.6875 34.8125 36.53125 \nQ 39.546875 41.84375 41.421875 45.53125 \nQ 43.3125 49.21875 43.3125 52.78125 \nQ 43.3125 58.59375 39.234375 62.25 \nQ 35.15625 65.921875 28.609375 65.921875 \nQ 23.96875 65.921875 18.8125 64.3125 \nQ 13.671875 62.703125 7.8125 59.421875 \nL 7.8125 69.390625 \nQ 13.765625 71.78125 18.9375 73 \nQ 24.125 74.21875 28.421875 74.21875 \nQ 39.75 74.21875 46.484375 68.546875 \nQ 53.21875 62.890625 53.21875 53.421875 \nQ 53.21875 48.921875 51.53125 44.890625 \nQ 49.859375 40.875 45.40625 35.40625 \nQ 44.1875 33.984375 37.640625 27.21875 \nQ 31.109375 20.453125 19.1875 8.296875 \nz\n\" id=\"DejaVuSans-50\"/>\n       <path d=\"M 10.796875 72.90625 \nL 49.515625 72.90625 \nL 49.515625 64.59375 \nL 19.828125 64.59375 \nL 19.828125 46.734375 \nQ 21.96875 47.46875 24.109375 47.828125 \nQ 26.265625 48.1875 28.421875 48.1875 \nQ 40.625 48.1875 47.75 41.5 \nQ 54.890625 34.8125 54.890625 23.390625 \nQ 54.890625 11.625 47.5625 5.09375 \nQ 40.234375 -1.421875 26.90625 -1.421875 \nQ 22.3125 -1.421875 17.546875 -0.640625 \nQ 12.796875 0.140625 7.71875 1.703125 \nL 7.71875 11.625 \nQ 12.109375 9.234375 16.796875 8.0625 \nQ 21.484375 6.890625 26.703125 6.890625 \nQ 35.15625 6.890625 40.078125 11.328125 \nQ 45.015625 15.765625 45.015625 23.390625 \nQ 45.015625 31 40.078125 35.4375 \nQ 35.15625 39.890625 26.703125 39.890625 \nQ 22.75 39.890625 18.8125 39.015625 \nQ 14.890625 38.140625 10.796875 36.28125 \nz\n\" id=\"DejaVuSans-53\"/>\n      </defs>\n      <g transform=\"translate(80.204544 239.238437)scale(0.1 -0.1)\">\n       <use xlink:href=\"#DejaVuSans-50\"/>\n       <use x=\"63.623047\" xlink:href=\"#DejaVuSans-53\"/>\n       <use x=\"127.246094\" xlink:href=\"#DejaVuSans-48\"/>\n      </g>\n     </g>\n    </g>\n    <g id=\"xtick_3\">\n     <g id=\"line2d_3\">\n      <g>\n       <use style=\"stroke:#000000;stroke-width:0.8;\" x=\"127.81278\" xlink:href=\"#m7acbb868bb\" y=\"224.64\"/>\n      </g>\n     </g>\n     <g id=\"text_3\">\n      <!-- 500 -->\n      <g transform=\"translate(118.26903 239.238437)scale(0.1 -0.1)\">\n       <use xlink:href=\"#DejaVuSans-53\"/>\n       <use x=\"63.623047\" xlink:href=\"#DejaVuSans-48\"/>\n       <use x=\"127.246094\" xlink:href=\"#DejaVuSans-48\"/>\n      </g>\n     </g>\n    </g>\n    <g id=\"xtick_4\">\n     <g id=\"line2d_4\">\n      <g>\n       <use style=\"stroke:#000000;stroke-width:0.8;\" x=\"165.877267\" xlink:href=\"#m7acbb868bb\" y=\"224.64\"/>\n      </g>\n     </g>\n     <g id=\"text_4\">\n      <!-- 750 -->\n      <defs>\n       <path d=\"M 8.203125 72.90625 \nL 55.078125 72.90625 \nL 55.078125 68.703125 \nL 28.609375 0 \nL 18.3125 0 \nL 43.21875 64.59375 \nL 8.203125 64.59375 \nz\n\" id=\"DejaVuSans-55\"/>\n      </defs>\n      <g transform=\"translate(156.333517 239.238437)scale(0.1 -0.1)\">\n       <use xlink:href=\"#DejaVuSans-55\"/>\n       <use x=\"63.623047\" xlink:href=\"#DejaVuSans-53\"/>\n       <use x=\"127.246094\" xlink:href=\"#DejaVuSans-48\"/>\n      </g>\n     </g>\n    </g>\n    <g id=\"xtick_5\">\n     <g id=\"line2d_5\">\n      <g>\n       <use style=\"stroke:#000000;stroke-width:0.8;\" x=\"203.941754\" xlink:href=\"#m7acbb868bb\" y=\"224.64\"/>\n      </g>\n     </g>\n     <g id=\"text_5\">\n      <!-- 1000 -->\n      <defs>\n       <path d=\"M 12.40625 8.296875 \nL 28.515625 8.296875 \nL 28.515625 63.921875 \nL 10.984375 60.40625 \nL 10.984375 69.390625 \nL 28.421875 72.90625 \nL 38.28125 72.90625 \nL 38.28125 8.296875 \nL 54.390625 8.296875 \nL 54.390625 0 \nL 12.40625 0 \nz\n\" id=\"DejaVuSans-49\"/>\n      </defs>\n      <g transform=\"translate(191.216754 239.238437)scale(0.1 -0.1)\">\n       <use xlink:href=\"#DejaVuSans-49\"/>\n       <use x=\"63.623047\" xlink:href=\"#DejaVuSans-48\"/>\n       <use x=\"127.246094\" xlink:href=\"#DejaVuSans-48\"/>\n       <use x=\"190.869141\" xlink:href=\"#DejaVuSans-48\"/>\n      </g>\n     </g>\n    </g>\n    <g id=\"xtick_6\">\n     <g id=\"line2d_6\">\n      <g>\n       <use style=\"stroke:#000000;stroke-width:0.8;\" x=\"242.006241\" xlink:href=\"#m7acbb868bb\" y=\"224.64\"/>\n      </g>\n     </g>\n     <g id=\"text_6\">\n      <!-- 1250 -->\n      <g transform=\"translate(229.281241 239.238437)scale(0.1 -0.1)\">\n       <use xlink:href=\"#DejaVuSans-49\"/>\n       <use x=\"63.623047\" xlink:href=\"#DejaVuSans-50\"/>\n       <use x=\"127.246094\" xlink:href=\"#DejaVuSans-53\"/>\n       <use x=\"190.869141\" xlink:href=\"#DejaVuSans-48\"/>\n      </g>\n     </g>\n    </g>\n    <g id=\"xtick_7\">\n     <g id=\"line2d_7\">\n      <g>\n       <use style=\"stroke:#000000;stroke-width:0.8;\" x=\"280.070728\" xlink:href=\"#m7acbb868bb\" y=\"224.64\"/>\n      </g>\n     </g>\n     <g id=\"text_7\">\n      <!-- 1500 -->\n      <g transform=\"translate(267.345728 239.238437)scale(0.1 -0.1)\">\n       <use xlink:href=\"#DejaVuSans-49\"/>\n       <use x=\"63.623047\" xlink:href=\"#DejaVuSans-53\"/>\n       <use x=\"127.246094\" xlink:href=\"#DejaVuSans-48\"/>\n       <use x=\"190.869141\" xlink:href=\"#DejaVuSans-48\"/>\n      </g>\n     </g>\n    </g>\n    <g id=\"xtick_8\">\n     <g id=\"line2d_8\">\n      <g>\n       <use style=\"stroke:#000000;stroke-width:0.8;\" x=\"318.135214\" xlink:href=\"#m7acbb868bb\" y=\"224.64\"/>\n      </g>\n     </g>\n     <g id=\"text_8\">\n      <!-- 1750 -->\n      <g transform=\"translate(305.410214 239.238437)scale(0.1 -0.1)\">\n       <use xlink:href=\"#DejaVuSans-49\"/>\n       <use x=\"63.623047\" xlink:href=\"#DejaVuSans-55\"/>\n       <use x=\"127.246094\" xlink:href=\"#DejaVuSans-53\"/>\n       <use x=\"190.869141\" xlink:href=\"#DejaVuSans-48\"/>\n      </g>\n     </g>\n    </g>\n    <g id=\"xtick_9\">\n     <g id=\"line2d_9\">\n      <g>\n       <use style=\"stroke:#000000;stroke-width:0.8;\" x=\"356.199701\" xlink:href=\"#m7acbb868bb\" y=\"224.64\"/>\n      </g>\n     </g>\n     <g id=\"text_9\">\n      <!-- 2000 -->\n      <g transform=\"translate(343.474701 239.238437)scale(0.1 -0.1)\">\n       <use xlink:href=\"#DejaVuSans-50\"/>\n       <use x=\"63.623047\" xlink:href=\"#DejaVuSans-48\"/>\n       <use x=\"127.246094\" xlink:href=\"#DejaVuSans-48\"/>\n       <use x=\"190.869141\" xlink:href=\"#DejaVuSans-48\"/>\n      </g>\n     </g>\n    </g>\n   </g>\n   <g id=\"matplotlib.axis_2\">\n    <g id=\"ytick_1\">\n     <g id=\"line2d_10\">\n      <defs>\n       <path d=\"M 0 0 \nL -3.5 0 \n\" id=\"mc701c96b46\" style=\"stroke:#000000;stroke-width:0.8;\"/>\n      </defs>\n      <g>\n       <use style=\"stroke:#000000;stroke-width:0.8;\" x=\"36.465625\" xlink:href=\"#mc701c96b46\" y=\"207.742749\"/>\n      </g>\n     </g>\n     <g id=\"text_10\">\n      <!-- 0.07 -->\n      <defs>\n       <path d=\"M 10.6875 12.40625 \nL 21 12.40625 \nL 21 0 \nL 10.6875 0 \nz\n\" id=\"DejaVuSans-46\"/>\n      </defs>\n      <g transform=\"translate(7.2 211.541968)scale(0.1 -0.1)\">\n       <use xlink:href=\"#DejaVuSans-48\"/>\n       <use x=\"63.623047\" xlink:href=\"#DejaVuSans-46\"/>\n       <use x=\"95.410156\" xlink:href=\"#DejaVuSans-48\"/>\n       <use x=\"159.033203\" xlink:href=\"#DejaVuSans-55\"/>\n      </g>\n     </g>\n    </g>\n    <g id=\"ytick_2\">\n     <g id=\"line2d_11\">\n      <g>\n       <use style=\"stroke:#000000;stroke-width:0.8;\" x=\"36.465625\" xlink:href=\"#mc701c96b46\" y=\"175.398013\"/>\n      </g>\n     </g>\n     <g id=\"text_11\">\n      <!-- 0.08 -->\n      <defs>\n       <path d=\"M 31.78125 34.625 \nQ 24.75 34.625 20.71875 30.859375 \nQ 16.703125 27.09375 16.703125 20.515625 \nQ 16.703125 13.921875 20.71875 10.15625 \nQ 24.75 6.390625 31.78125 6.390625 \nQ 38.8125 6.390625 42.859375 10.171875 \nQ 46.921875 13.96875 46.921875 20.515625 \nQ 46.921875 27.09375 42.890625 30.859375 \nQ 38.875 34.625 31.78125 34.625 \nz\nM 21.921875 38.8125 \nQ 15.578125 40.375 12.03125 44.71875 \nQ 8.5 49.078125 8.5 55.328125 \nQ 8.5 64.0625 14.71875 69.140625 \nQ 20.953125 74.21875 31.78125 74.21875 \nQ 42.671875 74.21875 48.875 69.140625 \nQ 55.078125 64.0625 55.078125 55.328125 \nQ 55.078125 49.078125 51.53125 44.71875 \nQ 48 40.375 41.703125 38.8125 \nQ 48.828125 37.15625 52.796875 32.3125 \nQ 56.78125 27.484375 56.78125 20.515625 \nQ 56.78125 9.90625 50.3125 4.234375 \nQ 43.84375 -1.421875 31.78125 -1.421875 \nQ 19.734375 -1.421875 13.25 4.234375 \nQ 6.78125 9.90625 6.78125 20.515625 \nQ 6.78125 27.484375 10.78125 32.3125 \nQ 14.796875 37.15625 21.921875 38.8125 \nz\nM 18.3125 54.390625 \nQ 18.3125 48.734375 21.84375 45.5625 \nQ 25.390625 42.390625 31.78125 42.390625 \nQ 38.140625 42.390625 41.71875 45.5625 \nQ 45.3125 48.734375 45.3125 54.390625 \nQ 45.3125 60.0625 41.71875 63.234375 \nQ 38.140625 66.40625 31.78125 66.40625 \nQ 25.390625 66.40625 21.84375 63.234375 \nQ 18.3125 60.0625 18.3125 54.390625 \nz\n\" id=\"DejaVuSans-56\"/>\n      </defs>\n      <g transform=\"translate(7.2 179.197231)scale(0.1 -0.1)\">\n       <use xlink:href=\"#DejaVuSans-48\"/>\n       <use x=\"63.623047\" xlink:href=\"#DejaVuSans-46\"/>\n       <use x=\"95.410156\" xlink:href=\"#DejaVuSans-48\"/>\n       <use x=\"159.033203\" xlink:href=\"#DejaVuSans-56\"/>\n      </g>\n     </g>\n    </g>\n    <g id=\"ytick_3\">\n     <g id=\"line2d_12\">\n      <g>\n       <use style=\"stroke:#000000;stroke-width:0.8;\" x=\"36.465625\" xlink:href=\"#mc701c96b46\" y=\"143.053276\"/>\n      </g>\n     </g>\n     <g id=\"text_12\">\n      <!-- 0.09 -->\n      <defs>\n       <path d=\"M 10.984375 1.515625 \nL 10.984375 10.5 \nQ 14.703125 8.734375 18.5 7.8125 \nQ 22.3125 6.890625 25.984375 6.890625 \nQ 35.75 6.890625 40.890625 13.453125 \nQ 46.046875 20.015625 46.78125 33.40625 \nQ 43.953125 29.203125 39.59375 26.953125 \nQ 35.25 24.703125 29.984375 24.703125 \nQ 19.046875 24.703125 12.671875 31.3125 \nQ 6.296875 37.9375 6.296875 49.421875 \nQ 6.296875 60.640625 12.9375 67.421875 \nQ 19.578125 74.21875 30.609375 74.21875 \nQ 43.265625 74.21875 49.921875 64.515625 \nQ 56.59375 54.828125 56.59375 36.375 \nQ 56.59375 19.140625 48.40625 8.859375 \nQ 40.234375 -1.421875 26.421875 -1.421875 \nQ 22.703125 -1.421875 18.890625 -0.6875 \nQ 15.09375 0.046875 10.984375 1.515625 \nz\nM 30.609375 32.421875 \nQ 37.25 32.421875 41.125 36.953125 \nQ 45.015625 41.5 45.015625 49.421875 \nQ 45.015625 57.28125 41.125 61.84375 \nQ 37.25 66.40625 30.609375 66.40625 \nQ 23.96875 66.40625 20.09375 61.84375 \nQ 16.21875 57.28125 16.21875 49.421875 \nQ 16.21875 41.5 20.09375 36.953125 \nQ 23.96875 32.421875 30.609375 32.421875 \nz\n\" id=\"DejaVuSans-57\"/>\n      </defs>\n      <g transform=\"translate(7.2 146.852494)scale(0.1 -0.1)\">\n       <use xlink:href=\"#DejaVuSans-48\"/>\n       <use x=\"63.623047\" xlink:href=\"#DejaVuSans-46\"/>\n       <use x=\"95.410156\" xlink:href=\"#DejaVuSans-48\"/>\n       <use x=\"159.033203\" xlink:href=\"#DejaVuSans-57\"/>\n      </g>\n     </g>\n    </g>\n    <g id=\"ytick_4\">\n     <g id=\"line2d_13\">\n      <g>\n       <use style=\"stroke:#000000;stroke-width:0.8;\" x=\"36.465625\" xlink:href=\"#mc701c96b46\" y=\"110.708539\"/>\n      </g>\n     </g>\n     <g id=\"text_13\">\n      <!-- 0.10 -->\n      <g transform=\"translate(7.2 114.507758)scale(0.1 -0.1)\">\n       <use xlink:href=\"#DejaVuSans-48\"/>\n       <use x=\"63.623047\" xlink:href=\"#DejaVuSans-46\"/>\n       <use x=\"95.410156\" xlink:href=\"#DejaVuSans-49\"/>\n       <use x=\"159.033203\" xlink:href=\"#DejaVuSans-48\"/>\n      </g>\n     </g>\n    </g>\n    <g id=\"ytick_5\">\n     <g id=\"line2d_14\">\n      <g>\n       <use style=\"stroke:#000000;stroke-width:0.8;\" x=\"36.465625\" xlink:href=\"#mc701c96b46\" y=\"78.363802\"/>\n      </g>\n     </g>\n     <g id=\"text_14\">\n      <!-- 0.11 -->\n      <g transform=\"translate(7.2 82.163021)scale(0.1 -0.1)\">\n       <use xlink:href=\"#DejaVuSans-48\"/>\n       <use x=\"63.623047\" xlink:href=\"#DejaVuSans-46\"/>\n       <use x=\"95.410156\" xlink:href=\"#DejaVuSans-49\"/>\n       <use x=\"159.033203\" xlink:href=\"#DejaVuSans-49\"/>\n      </g>\n     </g>\n    </g>\n    <g id=\"ytick_6\">\n     <g id=\"line2d_15\">\n      <g>\n       <use style=\"stroke:#000000;stroke-width:0.8;\" x=\"36.465625\" xlink:href=\"#mc701c96b46\" y=\"46.019065\"/>\n      </g>\n     </g>\n     <g id=\"text_15\">\n      <!-- 0.12 -->\n      <g transform=\"translate(7.2 49.818284)scale(0.1 -0.1)\">\n       <use xlink:href=\"#DejaVuSans-48\"/>\n       <use x=\"63.623047\" xlink:href=\"#DejaVuSans-46\"/>\n       <use x=\"95.410156\" xlink:href=\"#DejaVuSans-49\"/>\n       <use x=\"159.033203\" xlink:href=\"#DejaVuSans-50\"/>\n      </g>\n     </g>\n    </g>\n    <g id=\"ytick_7\">\n     <g id=\"line2d_16\">\n      <g>\n       <use style=\"stroke:#000000;stroke-width:0.8;\" x=\"36.465625\" xlink:href=\"#mc701c96b46\" y=\"13.674329\"/>\n      </g>\n     </g>\n     <g id=\"text_16\">\n      <!-- 0.13 -->\n      <defs>\n       <path d=\"M 40.578125 39.3125 \nQ 47.65625 37.796875 51.625 33 \nQ 55.609375 28.21875 55.609375 21.1875 \nQ 55.609375 10.40625 48.1875 4.484375 \nQ 40.765625 -1.421875 27.09375 -1.421875 \nQ 22.515625 -1.421875 17.65625 -0.515625 \nQ 12.796875 0.390625 7.625 2.203125 \nL 7.625 11.71875 \nQ 11.71875 9.328125 16.59375 8.109375 \nQ 21.484375 6.890625 26.8125 6.890625 \nQ 36.078125 6.890625 40.9375 10.546875 \nQ 45.796875 14.203125 45.796875 21.1875 \nQ 45.796875 27.640625 41.28125 31.265625 \nQ 36.765625 34.90625 28.71875 34.90625 \nL 20.21875 34.90625 \nL 20.21875 43.015625 \nL 29.109375 43.015625 \nQ 36.375 43.015625 40.234375 45.921875 \nQ 44.09375 48.828125 44.09375 54.296875 \nQ 44.09375 59.90625 40.109375 62.90625 \nQ 36.140625 65.921875 28.71875 65.921875 \nQ 24.65625 65.921875 20.015625 65.03125 \nQ 15.375 64.15625 9.8125 62.3125 \nL 9.8125 71.09375 \nQ 15.4375 72.65625 20.34375 73.4375 \nQ 25.25 74.21875 29.59375 74.21875 \nQ 40.828125 74.21875 47.359375 69.109375 \nQ 53.90625 64.015625 53.90625 55.328125 \nQ 53.90625 49.265625 50.4375 45.09375 \nQ 46.96875 40.921875 40.578125 39.3125 \nz\n\" id=\"DejaVuSans-51\"/>\n      </defs>\n      <g transform=\"translate(7.2 17.473547)scale(0.1 -0.1)\">\n       <use xlink:href=\"#DejaVuSans-48\"/>\n       <use x=\"63.623047\" xlink:href=\"#DejaVuSans-46\"/>\n       <use x=\"95.410156\" xlink:href=\"#DejaVuSans-49\"/>\n       <use x=\"159.033203\" xlink:href=\"#DejaVuSans-51\"/>\n      </g>\n     </g>\n    </g>\n   </g>\n   <g id=\"line2d_17\">\n    <path clip-path=\"url(#p48fae5d30d)\" d=\"M 51.683807 130.795361 \nL 52.140581 155.502174 \nL 52.292839 156.731666 \nL 52.445097 156.896357 \nL 53.054128 140.780395 \nL 53.206386 140.921252 \nL 53.358644 141.872307 \nL 53.815418 156.75403 \nL 53.967676 156.792539 \nL 54.119934 159.434432 \nL 54.272192 158.21417 \nL 54.576708 151.671227 \nL 55.033482 142.239547 \nL 55.18574 142.096232 \nL 55.337998 142.166456 \nL 55.490255 145.713231 \nL 55.642513 145.305818 \nL 55.947029 156.993667 \nL 56.099287 157.442241 \nL 56.403803 153.270827 \nL 56.860577 142.236535 \nL 57.012835 141.831339 \nL 57.317351 144.779382 \nL 57.621867 155.646381 \nL 57.926383 159.544756 \nL 58.078641 159.927564 \nL 58.230899 158.693204 \nL 58.383156 156.340881 \nL 58.535414 155.962652 \nL 58.83993 150.990631 \nL 58.992188 150.51955 \nL 59.144446 151.007163 \nL 59.296704 152.156912 \nL 59.60122 156.910406 \nL 60.057994 160.917563 \nL 60.36251 161.75709 \nL 60.819284 161.967785 \nL 61.1238 160.275236 \nL 61.276057 158.888428 \nL 61.428315 156.263019 \nL 61.732831 146.238945 \nL 62.189605 119.448677 \nL 62.341863 122.72239 \nL 62.494121 123.263985 \nL 62.798637 146.567892 \nL 62.950895 156.049359 \nL 63.103153 156.770224 \nL 63.255411 152.089653 \nL 63.559927 133.801265 \nL 63.864443 128.805675 \nL 64.016701 134.503236 \nL 64.321216 155.154213 \nL 64.473474 160.546371 \nL 65.082506 145.956411 \nL 65.234764 144.454435 \nL 65.691538 159.196048 \nL 65.996054 160.440987 \nL 66.452828 154.317217 \nL 66.605086 153.430649 \nL 66.909602 154.774972 \nL 67.061859 157.234365 \nL 67.214117 154.097629 \nL 67.366375 156.180119 \nL 67.518633 159.943831 \nL 67.670891 157.893513 \nL 67.823149 158.188096 \nL 68.279923 156.026249 \nL 68.432181 156.814903 \nL 68.584439 156.707977 \nL 68.736697 157.455856 \nL 69.041213 160.645971 \nL 69.345729 162.365799 \nL 69.497987 162.257668 \nL 69.650245 162.511644 \nL 70.411534 158.833965 \nL 70.563792 156.9861 \nL 70.71605 157.392043 \nL 70.868308 155.794949 \nL 71.172824 155.768561 \nL 71.325082 157.040226 \nL 71.47734 157.071361 \nL 71.781856 158.539503 \nL 72.086372 155.495619 \nL 72.390888 157.303215 \nL 72.695404 155.394959 \nL 73.456693 147.446025 \nL 73.608951 147.261212 \nL 73.761209 149.082881 \nL 73.913467 146.594882 \nL 74.065725 149.498969 \nL 74.217983 147.004103 \nL 74.522499 155.688023 \nL 74.979273 162.429757 \nL 75.131531 160.748439 \nL 75.283789 161.856666 \nL 75.588305 160.894091 \nL 76.045078 155.628596 \nL 76.806368 141.884067 \nL 76.958626 144.543673 \nL 77.110884 145.016345 \nL 77.567658 160.090062 \nL 77.719916 162.507138 \nL 77.872174 161.434577 \nL 78.024432 161.657418 \nL 78.17669 160.240173 \nL 78.328948 157.722798 \nL 78.633463 148.031165 \nL 78.937979 133.789866 \nL 79.090237 113.160915 \nL 79.242495 121.448774 \nL 79.394753 121.319604 \nL 79.851527 159.021766 \nL 80.003785 159.50227 \nL 80.612817 141.233547 \nL 80.765075 140.213448 \nL 81.221849 159.874812 \nL 81.374107 161.319409 \nL 81.526364 161.545166 \nL 81.83088 152.850449 \nL 82.135396 147.797191 \nL 82.287654 151.757934 \nL 82.439912 151.928505 \nL 82.59217 158.588953 \nL 82.896686 159.687879 \nL 83.201202 152.31888 \nL 83.505718 145.807963 \nL 83.810234 153.731498 \nL 84.11475 162.668262 \nL 84.267008 162.599075 \nL 84.723781 158.036948 \nL 84.876039 157.680842 \nL 85.485071 163.904694 \nL 85.637329 165.018392 \nL 85.789587 165.094182 \nL 85.941845 161.447156 \nL 86.094103 161.877656 \nL 86.246361 163.205519 \nL 86.398619 162.483521 \nL 86.550877 162.73998 \nL 86.703135 164.129535 \nL 86.855393 164.165563 \nL 87.007651 163.558565 \nL 87.159909 164.004752 \nL 87.312166 164.889151 \nL 87.464424 164.65908 \nL 87.616682 165.68436 \nL 87.76894 164.175347 \nL 87.921198 165.81536 \nL 88.073456 165.686095 \nL 88.377972 164.523188 \nL 88.53023 164.946843 \nL 88.834746 163.527284 \nL 88.987004 160.429685 \nL 89.443778 141.996897 \nL 89.596036 131.443977 \nL 89.748294 128.730463 \nL 89.900552 122.100981 \nL 90.205067 136.280877 \nL 90.509583 160.795262 \nL 90.661841 163.979328 \nL 90.814099 163.544202 \nL 91.423131 142.409684 \nL 91.575389 142.770707 \nL 92.032163 163.206145 \nL 92.184421 165.886427 \nL 92.793453 157.916503 \nL 92.94571 156.786563 \nL 93.097968 158.60175 \nL 93.250226 158.764031 \nL 93.707 164.813312 \nL 93.859258 164.808565 \nL 94.011516 163.545937 \nL 94.316032 159.849701 \nL 94.46829 159.536466 \nL 94.620548 158.88744 \nL 94.772806 159.983256 \nL 95.22958 165.299744 \nL 95.686354 167.348014 \nL 95.838611 164.469303 \nL 95.990869 164.581025 \nL 96.295385 166.904646 \nL 96.447643 166.004246 \nL 96.599901 166.314083 \nL 96.752159 167.527067 \nL 97.056675 166.061432 \nL 97.208933 167.287333 \nL 97.361191 166.588423 \nL 97.513449 160.352183 \nL 97.665707 161.73569 \nL 97.817965 158.152405 \nL 97.970223 159.603268 \nL 98.122481 148.421564 \nL 98.274739 147.498729 \nL 98.426997 136.708749 \nL 98.579255 136.745982 \nL 98.731512 131.569773 \nL 98.88377 141.777069 \nL 99.036028 141.448772 \nL 99.340544 157.234606 \nL 99.492802 162.141705 \nL 99.64506 163.383006 \nL 99.797318 159.104256 \nL 99.949576 159.163949 \nL 100.101834 156.253186 \nL 100.254092 155.516657 \nL 100.40635 153.447036 \nL 100.863124 159.93783 \nL 101.16764 165.011765 \nL 101.319898 166.956844 \nL 101.472156 166.064155 \nL 101.624413 166.897127 \nL 101.776671 161.603268 \nL 102.081187 164.403176 \nL 102.233445 163.67125 \nL 102.385703 164.279791 \nL 102.537961 167.083675 \nL 102.690219 165.999788 \nL 102.842477 165.982364 \nL 102.994735 167.380403 \nL 103.146993 167.432649 \nL 103.299251 167.262729 \nL 103.451509 167.618233 \nL 103.603767 168.256559 \nL 103.756025 167.380162 \nL 104.060541 167.556902 \nL 104.365057 164.650091 \nL 104.517314 165.050058 \nL 104.669572 164.248944 \nL 104.974088 159.136476 \nL 105.278604 139.074881 \nL 105.735378 95.858333 \nL 106.039894 119.013599 \nL 106.34441 162.712917 \nL 106.496668 164.033502 \nL 106.801184 142.136549 \nL 106.953442 143.660142 \nL 107.1057 144.013718 \nL 107.410215 159.153538 \nL 107.714731 166.212844 \nL 107.866989 165.568011 \nL 108.323763 162.193035 \nL 108.628279 163.268296 \nL 109.085053 167.922093 \nL 109.541827 168.476725 \nL 109.694085 168.391295 \nL 110.150859 164.754752 \nL 110.303116 163.259259 \nL 110.455374 163.395898 \nL 111.064406 161.640476 \nL 111.216664 162.55589 \nL 111.368922 161.669371 \nL 111.52118 162.796925 \nL 111.673438 162.335387 \nL 111.977954 164.326084 \nL 112.28247 165.586664 \nL 112.434728 163.935372 \nL 112.586986 163.620137 \nL 112.891502 167.752752 \nL 113.04376 167.287117 \nL 113.348275 168.415659 \nL 113.500533 168.304202 \nL 113.652791 168.185227 \nL 113.805049 167.494799 \nL 113.957307 167.544804 \nL 114.109565 167.07124 \nL 114.414081 162.886982 \nL 114.718597 152.455712 \nL 115.175371 118.285866 \nL 115.327629 116.571219 \nL 115.479887 121.045096 \nL 115.784403 150.329893 \nL 115.936661 163.132548 \nL 116.088918 165.926817 \nL 116.393434 150.878138 \nL 116.545692 146.672601 \nL 116.850208 151.332086 \nL 117.154724 165.132475 \nL 117.306982 167.202169 \nL 117.45924 165.731232 \nL 117.611498 157.891898 \nL 117.763756 158.047287 \nL 117.916014 153.065771 \nL 118.22053 157.922046 \nL 118.525046 167.742847 \nL 118.677304 170.951518 \nL 119.134077 162.766561 \nL 119.286335 155.78437 \nL 119.438593 156.000993 \nL 119.590851 154.518393 \nL 119.895367 167.223737 \nL 120.047625 170.20359 \nL 120.199883 170.843796 \nL 120.808915 162.293648 \nL 120.961173 155.706025 \nL 121.417947 166.154044 \nL 121.722463 170.154646 \nL 122.026978 167.786056 \nL 122.179236 168.864521 \nL 122.331494 168.706169 \nL 122.483752 168.146573 \nL 122.63601 168.52714 \nL 122.788268 170.53743 \nL 122.940526 169.175829 \nL 123.3973 171.154429 \nL 123.549558 170.209591 \nL 123.854074 171.454265 \nL 124.006332 171.290346 \nL 124.310848 170.016753 \nL 124.767621 165.084133 \nL 125.072137 155.469569 \nL 125.224395 149.433734 \nL 125.376653 138.833123 \nL 125.528911 137.310807 \nL 125.681169 130.916457 \nL 125.985685 136.236077 \nL 126.290201 160.385102 \nL 126.442459 164.752439 \nL 126.746975 154.003717 \nL 126.899233 147.619053 \nL 127.051491 147.516803 \nL 127.356007 159.580808 \nL 127.660522 166.757764 \nL 127.81278 160.954121 \nL 127.965038 162.272465 \nL 128.269554 156.093508 \nL 128.421812 154.439397 \nL 129.183102 170.218724 \nL 129.487618 166.457711 \nL 129.792134 162.286442 \nL 130.705681 172.535261 \nL 131.162455 170.174069 \nL 131.314713 169.915852 \nL 131.619229 168.966459 \nL 131.771487 168.587362 \nL 131.923745 168.5262 \nL 132.076003 168.254559 \nL 132.532777 170.64009 \nL 132.685035 171.374209 \nL 132.989551 170.881101 \nL 133.294066 171.147055 \nL 133.446324 171.613461 \nL 133.598582 171.036273 \nL 134.359872 172.490654 \nL 134.51213 172.038273 \nL 134.664388 172.208265 \nL 135.121162 168.347773 \nL 135.27342 165.898862 \nL 135.577936 155.117968 \nL 135.730194 140.737186 \nL 135.882452 137.186048 \nL 136.03471 115.61091 \nL 136.186967 115.464751 \nL 136.339225 106.914868 \nL 136.795999 162.423949 \nL 136.948257 156.459013 \nL 137.100515 158.938433 \nL 137.405031 134.792661 \nL 137.709547 153.983064 \nL 137.861805 156.764151 \nL 138.014063 168.203904 \nL 138.166321 168.870715 \nL 138.318579 162.034635 \nL 138.470837 164.459037 \nL 138.623095 162.14785 \nL 138.775353 155.049456 \nL 138.927611 164.451084 \nL 139.079868 165.742245 \nL 139.232126 165.876426 \nL 139.384384 172.8203 \nL 139.536642 170.070156 \nL 139.6889 162.744438 \nL 139.841158 167.484316 \nL 139.993416 165.532104 \nL 140.145674 159.449446 \nL 140.297932 168.172045 \nL 140.602448 164.75321 \nL 140.754706 171.87298 \nL 141.059222 167.311553 \nL 141.21148 172.540635 \nL 141.515996 168.002511 \nL 141.668254 172.522874 \nL 141.820512 168.88462 \nL 141.972769 168.632499 \nL 142.125027 173.772609 \nL 142.277285 169.313119 \nL 142.429543 168.122064 \nL 142.581801 174.317023 \nL 142.734059 168.652212 \nL 142.886317 167.40949 \nL 143.038575 173.432528 \nL 143.190833 168.396019 \nL 143.343091 167.407176 \nL 143.495349 173.481472 \nL 143.799865 167.492847 \nL 143.952123 173.564926 \nL 144.256639 165.514175 \nL 144.408897 173.410285 \nL 144.713413 167.216411 \nL 144.86567 173.73581 \nL 145.017928 169.347797 \nL 145.170186 168.596182 \nL 145.322444 174.067721 \nL 145.62696 168.366907 \nL 145.779218 173.747715 \nL 145.931476 170.109894 \nL 146.083734 170.0596 \nL 146.235992 173.538586 \nL 146.540508 168.227978 \nL 146.692766 169.625679 \nL 147.301798 151.664503 \nL 147.454056 133.102257 \nL 147.606314 132.280106 \nL 147.758571 123.875561 \nL 147.910829 130.577195 \nL 148.367603 169.929082 \nL 148.519861 170.354834 \nL 149.128893 143.501115 \nL 149.433409 156.659033 \nL 149.737925 173.186311 \nL 150.042441 167.517693 \nL 150.194699 160.698626 \nL 150.346957 160.667756 \nL 150.499215 160.308758 \nL 150.80373 168.022874 \nL 151.108246 173.625872 \nL 151.260504 173.704554 \nL 151.717278 170.657923 \nL 151.869536 168.015114 \nL 152.021794 169.225424 \nL 152.174052 168.258728 \nL 152.783084 173.97352 \nL 152.935342 174.509523 \nL 153.0876 175.562757 \nL 153.239858 175.751088 \nL 153.392116 176.356086 \nL 153.544373 175.700915 \nL 153.696631 176.512656 \nL 153.848889 175.95465 \nL 154.001147 176.454722 \nL 154.153405 176.013186 \nL 154.305663 176.398476 \nL 154.457921 175.846784 \nL 154.610179 176.101942 \nL 155.066953 174.938215 \nL 155.219211 174.780826 \nL 155.523727 172.776874 \nL 155.980501 164.627053 \nL 156.132759 161.057263 \nL 156.589532 136.189061 \nL 156.74179 135.87197 \nL 156.894048 133.208388 \nL 157.50308 173.361605 \nL 157.807596 163.14238 \nL 157.959854 153.770658 \nL 158.26437 157.012585 \nL 158.568886 169.050756 \nL 158.873402 173.273597 \nL 159.02566 171.639704 \nL 159.177918 171.545262 \nL 159.330175 169.819168 \nL 159.482433 171.34211 \nL 159.634691 168.60281 \nL 159.786949 173.125317 \nL 159.939207 173.34317 \nL 160.091465 174.021645 \nL 160.243723 173.155224 \nL 160.395981 174.63139 \nL 160.700497 171.628185 \nL 160.852755 171.518392 \nL 161.005013 168.591363 \nL 161.157271 168.321313 \nL 161.309529 167.551672 \nL 161.461787 167.77673 \nL 161.614045 168.289358 \nL 161.766303 169.863485 \nL 161.918561 170.086784 \nL 162.070819 172.325963 \nL 162.223076 172.711519 \nL 162.375334 173.851026 \nL 162.527592 173.844712 \nL 163.136624 177.048515 \nL 163.288882 176.564516 \nL 163.44114 177.426165 \nL 163.745656 177.393054 \nL 163.897914 177.490967 \nL 164.050172 174.555142 \nL 164.20243 173.827024 \nL 164.354688 176.047912 \nL 164.506946 175.874594 \nL 164.659204 174.49116 \nL 164.811462 174.650525 \nL 164.96372 174.370401 \nL 165.420493 166.591652 \nL 166.029525 129.538637 \nL 166.181783 106.470391 \nL 166.334041 115.052302 \nL 166.486299 116.235404 \nL 166.790815 167.588133 \nL 166.943073 169.295069 \nL 167.095331 164.883391 \nL 167.247589 150.028755 \nL 167.399847 152.359823 \nL 167.552105 151.128018 \nL 167.85662 172.405031 \nL 168.008878 172.326469 \nL 168.161136 169.653875 \nL 168.465652 161.074735 \nL 168.61791 161.043985 \nL 168.770168 166.757692 \nL 168.922426 167.3377 \nL 169.074684 172.695927 \nL 169.531458 168.117895 \nL 169.683716 167.753812 \nL 169.835974 166.044684 \nL 169.988232 169.226267 \nL 170.14049 168.740028 \nL 170.445006 173.185564 \nL 170.597264 173.433757 \nL 170.749521 174.512463 \nL 170.901779 173.272151 \nL 171.054037 174.431058 \nL 171.206295 174.145343 \nL 171.510811 175.469109 \nL 171.815327 177.194095 \nL 171.967585 177.322517 \nL 172.119843 177.236219 \nL 172.272101 178.384161 \nL 172.424359 177.929997 \nL 172.576617 177.954819 \nL 172.728875 178.170454 \nL 172.881133 177.947686 \nL 173.033391 178.222676 \nL 173.185649 177.31989 \nL 173.337907 177.394018 \nL 173.946938 171.655947 \nL 174.251454 169.51591 \nL 174.403712 169.862594 \nL 174.55597 169.021428 \nL 174.708228 170.703373 \nL 174.860486 170.237208 \nL 175.165002 172.168888 \nL 175.31726 175.512728 \nL 175.469518 174.885945 \nL 175.621776 177.773163 \nL 175.926292 179.025886 \nL 176.07855 178.112882 \nL 176.230808 178.425033 \nL 176.687581 171.868449 \nL 177.296613 151.247306 \nL 177.448871 139.759164 \nL 177.601129 144.122765 \nL 177.753387 135.12879 \nL 178.057903 161.20641 \nL 178.210161 174.167852 \nL 178.514677 169.858063 \nL 178.819193 141.774153 \nL 178.971451 140.663034 \nL 179.123709 138.045914 \nL 179.580482 166.895368 \nL 179.73274 171.22205 \nL 180.037256 164.120836 \nL 180.189514 155.98798 \nL 180.341772 162.015476 \nL 180.49403 161.945759 \nL 180.798546 173.581217 \nL 180.950804 175.382812 \nL 181.25532 170.115148 \nL 181.407578 171.366449 \nL 181.559836 170.994389 \nL 181.864352 176.005258 \nL 182.168868 176.981496 \nL 182.473383 177.105363 \nL 182.625641 177.00198 \nL 182.777899 178.551503 \nL 182.930157 177.129559 \nL 183.082415 178.910019 \nL 183.234673 178.990774 \nL 183.386931 178.4132 \nL 183.691447 179.012873 \nL 183.843705 178.812805 \nL 183.995963 178.211157 \nL 184.148221 178.332084 \nL 184.604995 175.525597 \nL 184.757253 175.257908 \nL 184.909511 173.952819 \nL 185.214026 173.806588 \nL 185.366284 173.297527 \nL 186.279832 178.785092 \nL 186.43209 179.026826 \nL 186.584348 179.70906 \nL 186.736606 179.505402 \nL 186.888864 179.029645 \nL 187.19338 175.508607 \nL 187.345638 175.243907 \nL 187.95467 166.495329 \nL 188.411443 153.305336 \nL 188.563701 149.252464 \nL 188.715959 139.364451 \nL 188.868217 149.215159 \nL 189.020475 148.802806 \nL 189.324991 169.053865 \nL 189.629507 178.81654 \nL 190.390797 169.38262 \nL 190.543055 168.14344 \nL 190.695313 168.853557 \nL 191.152086 175.809937 \nL 191.456602 180.363605 \nL 191.60886 180.178406 \nL 192.37015 167.733449 \nL 192.522408 166.715254 \nL 192.674666 164.736413 \nL 192.826924 165.7742 \nL 192.979182 164.366209 \nL 193.588214 178.773428 \nL 193.892729 181.400307 \nL 194.501761 175.998269 \nL 194.654019 172.973231 \nL 194.806277 173.366714 \nL 194.958535 170.103701 \nL 195.110793 172.600713 \nL 195.263051 170.81818 \nL 195.567567 177.475616 \nL 195.719825 180.680889 \nL 195.872083 180.97576 \nL 196.024341 181.523403 \nL 196.176599 181.210626 \nL 196.328857 181.291984 \nL 196.481115 179.183901 \nL 196.633373 179.019114 \nL 196.937888 173.35493 \nL 197.394662 155.135199 \nL 197.54692 137.899153 \nL 197.699178 140.700339 \nL 197.851436 127.652287 \nL 198.003694 137.028612 \nL 198.155952 135.660022 \nL 198.30821 158.391561 \nL 198.460468 164.025694 \nL 198.612726 173.794177 \nL 198.917242 164.207061 \nL 199.221758 151.160937 \nL 199.374016 154.399056 \nL 199.830789 179.709952 \nL 199.983047 175.365413 \nL 200.135305 174.734316 \nL 200.287563 170.144548 \nL 200.439821 171.522151 \nL 200.896595 180.919634 \nL 201.201111 180.316878 \nL 201.353369 177.838277 \nL 201.505627 177.442938 \nL 201.657885 175.533742 \nL 201.810143 176.260535 \nL 202.266917 181.283236 \nL 202.419175 181.216651 \nL 202.571432 182.725206 \nL 202.72369 182.53085 \nL 202.875948 183.060997 \nL 203.028206 182.493015 \nL 203.180464 182.432166 \nL 203.48498 181.438118 \nL 203.637238 180.237786 \nL 203.789496 177.703011 \nL 204.094012 168.646814 \nL 204.398528 164.288081 \nL 204.550786 164.828542 \nL 205.159818 172.140861 \nL 205.616591 181.136065 \nL 205.768849 181.307937 \nL 205.921107 180.544128 \nL 206.073365 181.687564 \nL 207.443687 172.655055 \nL 207.595945 172.616353 \nL 207.748203 172.415827 \nL 208.966266 184.730773 \nL 209.118524 184.470483 \nL 209.270782 185.19795 \nL 209.42304 185.004823 \nL 209.575298 184.996003 \nL 209.879814 185.417995 \nL 210.032072 185.017547 \nL 210.336588 180.85852 \nL 210.488846 180.108135 \nL 210.641104 175.117967 \nL 210.94562 148.680891 \nL 211.402393 17.083636 \nL 211.859167 165.143512 \nL 212.011425 159.173925 \nL 212.163683 111.674989 \nL 212.315941 117.984922 \nL 212.772715 176.458723 \nL 212.924973 156.260729 \nL 213.077231 155.74721 \nL 213.229489 158.45041 \nL 213.534005 178.611171 \nL 213.686263 170.204289 \nL 213.838521 171.279067 \nL 213.990778 170.39732 \nL 214.143036 177.460651 \nL 214.295294 177.400741 \nL 214.447552 178.209614 \nL 214.59981 173.576807 \nL 214.904326 176.299527 \nL 215.056584 181.525042 \nL 215.208842 181.770608 \nL 215.3611 181.672719 \nL 215.665616 179.064323 \nL 215.817874 179.503378 \nL 216.274648 183.991424 \nL 216.426906 184.790272 \nL 217.035937 181.962265 \nL 217.188195 181.065986 \nL 217.492711 182.276922 \nL 217.949485 185.698601 \nL 218.101743 185.631534 \nL 218.254001 186.048538 \nL 218.558517 185.626329 \nL 218.710775 185.431973 \nL 218.863033 184.340494 \nL 219.015291 184.055527 \nL 219.77658 177.623437 \nL 220.081096 178.873847 \nL 220.233354 178.432937 \nL 220.53787 180.599531 \nL 220.690128 180.911706 \nL 220.842386 183.366304 \nL 221.146902 185.017571 \nL 221.29916 184.394861 \nL 221.451418 185.828252 \nL 221.603676 185.659922 \nL 221.755934 185.897463 \nL 221.908192 186.499088 \nL 222.06045 186.213397 \nL 222.212708 186.702384 \nL 222.517224 185.929105 \nL 222.973997 185.404211 \nL 223.278513 180.99957 \nL 223.583029 165.898645 \nL 224.039803 102.867393 \nL 224.192061 110.969089 \nL 224.344319 109.03471 \nL 224.648835 165.10934 \nL 224.801093 176.859798 \nL 224.953351 169.456868 \nL 225.257867 139.432168 \nL 225.410125 134.7729 \nL 226.019156 179.216362 \nL 226.171414 176.116786 \nL 226.323672 168.159176 \nL 226.47593 168.64238 \nL 226.780446 180.285646 \nL 226.932704 182.574035 \nL 227.084962 181.907609 \nL 227.23722 179.12069 \nL 227.389478 179.217904 \nL 227.541736 178.052563 \nL 227.846252 181.669707 \nL 228.150768 186.100712 \nL 228.303026 183.687901 \nL 228.455283 183.698601 \nL 228.607541 182.524175 \nL 228.759799 182.3878 \nL 229.216573 186.827047 \nL 229.368831 187.116376 \nL 229.521089 187.967831 \nL 229.673347 187.161465 \nL 229.825605 188.003714 \nL 229.977863 187.877582 \nL 230.282379 187.068516 \nL 230.434637 187.280777 \nL 230.739153 187.134643 \nL 231.043669 187.453035 \nL 231.348184 187.437973 \nL 231.804958 188.011065 \nL 231.957216 188.500702 \nL 232.109474 188.382088 \nL 232.41399 188.922984 \nL 232.566248 189.021403 \nL 232.718506 189.343844 \nL 232.870764 189.263113 \nL 233.023022 189.43578 \nL 233.479796 188.618858 \nL 233.784312 186.851411 \nL 234.088828 181.517885 \nL 234.697859 149.183445 \nL 234.850117 131.828544 \nL 235.154633 139.690338 \nL 235.611407 185.985592 \nL 235.763665 185.665007 \nL 236.372697 151.317819 \nL 236.524955 150.579676 \nL 236.981729 185.490364 \nL 237.133986 186.079433 \nL 237.59076 169.549696 \nL 237.743018 171.855557 \nL 238.047534 183.402813 \nL 238.35205 187.098278 \nL 238.504308 187.410983 \nL 238.656566 184.920574 \nL 238.808824 185.83659 \nL 238.961082 186.043164 \nL 239.11334 184.885053 \nL 239.417856 187.789573 \nL 239.570114 188.359363 \nL 239.722372 188.219229 \nL 239.87463 188.349097 \nL 240.026887 187.372907 \nL 240.179145 188.779066 \nL 240.331403 187.562202 \nL 240.483661 187.494557 \nL 240.635919 188.842687 \nL 240.788177 188.65597 \nL 240.940435 188.264342 \nL 241.092693 189.260799 \nL 241.244951 188.418598 \nL 241.549467 189.868472 \nL 241.701725 190.003787 \nL 242.006241 190.534175 \nL 242.158499 190.045044 \nL 242.310757 188.303936 \nL 242.615273 190.836855 \nL 242.919788 189.796321 \nL 243.072046 191.126208 \nL 243.376562 190.221904 \nL 243.52882 190.526656 \nL 243.681078 189.606158 \nL 243.985594 183.805334 \nL 244.29011 169.522079 \nL 245.0514 73.873974 \nL 245.355916 168.328132 \nL 245.508174 180.825577 \nL 245.812689 121.025528 \nL 245.964947 125.496344 \nL 246.117205 133.50379 \nL 246.269463 163.884741 \nL 246.573979 176.219784 \nL 246.878495 156.429541 \nL 247.335269 186.671273 \nL 247.639785 165.81189 \nL 247.792043 168.936408 \nL 247.944301 167.67807 \nL 248.096559 182.38768 \nL 248.248817 185.320998 \nL 248.70559 174.213374 \nL 249.162364 189.116978 \nL 249.46688 185.20665 \nL 249.619138 185.201541 \nL 249.771396 185.38245 \nL 250.075912 190.133823 \nL 250.22817 190.715084 \nL 250.837202 188.635703 \nL 250.98946 190.856953 \nL 251.141718 190.744171 \nL 251.293976 191.684334 \nL 251.446233 191.801767 \nL 251.598491 192.408235 \nL 251.903007 192.202721 \nL 252.055265 191.582493 \nL 252.207523 191.806828 \nL 252.359781 191.491255 \nL 252.816555 192.364231 \nL 252.968813 192.888161 \nL 253.121071 192.907343 \nL 253.730103 193.699781 \nL 253.882361 193.908307 \nL 254.491392 193.887221 \nL 255.252682 190.117533 \nL 256.013972 184.087482 \nL 256.470746 189.367822 \nL 256.775262 192.351507 \nL 256.92752 193.765137 \nL 257.079778 193.705613 \nL 257.232035 194.719952 \nL 257.384293 194.01598 \nL 257.536551 194.117484 \nL 257.688809 194.044417 \nL 257.841067 194.139558 \nL 258.450099 190.207421 \nL 258.754615 185.745569 \nL 258.906873 179.149247 \nL 259.059131 179.373365 \nL 259.363647 171.68754 \nL 259.515905 168.821987 \nL 259.820421 176.215639 \nL 260.124936 186.270126 \nL 260.277194 191.642957 \nL 260.58171 192.893752 \nL 260.733968 193.370906 \nL 260.886226 191.021306 \nL 261.038484 191.377003 \nL 261.190742 191.351627 \nL 261.343 190.694504 \nL 261.495258 191.761522 \nL 261.647516 191.385896 \nL 262.256548 193.282898 \nL 262.561064 192.80049 \nL 262.86558 190.002003 \nL 263.474611 181.494509 \nL 264.235901 154.606907 \nL 264.844933 192.061599 \nL 264.997191 193.908789 \nL 265.149449 192.837072 \nL 265.910738 167.398838 \nL 266.215254 179.243979 \nL 266.51977 192.715735 \nL 266.672028 193.293091 \nL 266.824286 191.715638 \nL 267.433318 173.464941 \nL 267.585576 173.927033 \nL 268.194608 195.772535 \nL 268.346866 195.829456 \nL 268.955897 187.78967 \nL 269.108155 187.820082 \nL 269.260413 186.442287 \nL 269.412671 187.950794 \nL 269.564929 188.277693 \nL 270.021703 194.193347 \nL 270.173961 194.48029 \nL 270.478477 196.573793 \nL 270.630735 195.688165 \nL 270.782993 195.804876 \nL 270.935251 195.337746 \nL 271.239767 190.96077 \nL 271.848798 168.480677 \nL 272.153314 170.292876 \nL 272.762346 194.609387 \nL 272.914604 194.485881 \nL 273.066862 194.572877 \nL 273.21912 193.181924 \nL 273.828152 183.008342 \nL 273.98041 182.543261 \nL 274.132668 176.969326 \nL 274.284926 181.662525 \nL 274.437184 182.17725 \nL 274.741699 191.4894 \nL 275.046215 196.837842 \nL 275.198473 196.672574 \nL 275.350731 197.599313 \nL 275.502989 197.719662 \nL 275.807505 196.5315 \nL 275.959763 196.227302 \nL 276.568795 189.41867 \nL 277.025569 183.355074 \nL 277.177827 183.082542 \nL 277.330085 181.703951 \nL 278.548148 197.660741 \nL 278.852664 199.363724 \nL 279.004922 199.641462 \nL 279.15718 199.224771 \nL 279.309438 199.301092 \nL 280.070728 188.119099 \nL 280.375243 173.5215 \nL 280.832017 116.259936 \nL 280.984275 132.733933 \nL 281.136533 134.934699 \nL 281.441049 182.307816 \nL 281.593307 194.401415 \nL 281.897823 172.072373 \nL 282.202339 136.532443 \nL 282.506855 159.282032 \nL 282.811371 191.379606 \nL 282.963629 189.613195 \nL 283.268144 171.725496 \nL 283.420402 170.749426 \nL 283.57266 173.988075 \nL 284.029434 193.771258 \nL 284.33395 188.904693 \nL 284.486208 188.364352 \nL 284.638466 186.591651 \nL 284.790724 193.354591 \nL 284.942982 194.122641 \nL 285.09524 196.900089 \nL 285.247498 196.807719 \nL 285.552014 193.954842 \nL 285.704272 194.154186 \nL 285.85653 195.214626 \nL 286.161045 197.692768 \nL 286.313303 196.683611 \nL 286.617819 198.956986 \nL 286.770077 198.476241 \nL 287.074593 198.499328 \nL 287.226851 198.006943 \nL 287.379109 198.113218 \nL 287.531367 198.476338 \nL 287.683625 197.609435 \nL 287.835883 197.689828 \nL 287.988141 197.995954 \nL 288.597173 200.720216 \nL 288.901688 201.085553 \nL 289.206204 201.37534 \nL 289.662978 200.540826 \nL 290.119752 197.328613 \nL 290.424268 192.05449 \nL 291.185558 167.302347 \nL 291.337816 170.842013 \nL 291.490074 169.873173 \nL 292.099105 199.000918 \nL 292.251363 200.982989 \nL 292.403621 200.378304 \nL 293.012653 186.997955 \nL 293.317169 183.158694 \nL 293.621685 189.983399 \nL 294.230717 199.494195 \nL 294.382975 200.985037 \nL 294.535233 200.112327 \nL 294.68749 200.840011 \nL 294.839748 199.218698 \nL 294.992006 199.721566 \nL 295.144264 198.760775 \nL 295.44878 193.501714 \nL 295.601038 193.779668 \nL 296.057812 181.905681 \nL 296.21007 179.101459 \nL 296.362328 171.563432 \nL 296.514586 174.657995 \nL 296.666844 170.732798 \nL 296.819102 179.58218 \nL 296.97136 181.204963 \nL 297.275876 193.473952 \nL 297.884907 200.72988 \nL 298.037165 200.433273 \nL 298.189423 202.127388 \nL 298.341681 200.836324 \nL 298.493939 201.6879 \nL 298.646197 201.456046 \nL 298.798455 201.640185 \nL 298.950713 201.071479 \nL 299.102971 201.283114 \nL 299.559745 199.920766 \nL 299.712003 198.056297 \nL 300.321035 180.358014 \nL 300.777808 151.860619 \nL 300.930066 151.046082 \nL 301.082324 147.070133 \nL 301.539098 193.435346 \nL 301.691356 201.820226 \nL 302.14813 178.939588 \nL 302.452646 165.180697 \nL 302.757162 178.32859 \nL 303.061678 198.049092 \nL 303.213936 199.715806 \nL 303.366193 199.1966 \nL 303.822967 185.021813 \nL 304.127483 190.476266 \nL 304.431999 200.27668 \nL 304.584257 199.487568 \nL 304.736515 202.131196 \nL 305.193289 196.281934 \nL 305.345547 197.040826 \nL 305.650063 196.85688 \nL 305.802321 197.684864 \nL 305.954579 199.653415 \nL 306.106837 200.068033 \nL 306.259094 197.336204 \nL 306.56361 201.975133 \nL 306.715868 201.31278 \nL 307.020384 203.367821 \nL 307.172642 203.27333 \nL 307.3249 203.779692 \nL 307.477158 203.740459 \nL 307.629416 204.165753 \nL 307.781674 203.938719 \nL 307.933932 205.022703 \nL 308.08619 204.970047 \nL 308.238448 204.439996 \nL 308.390706 205.330781 \nL 308.695222 204.703299 \nL 308.84748 205.050513 \nL 308.999738 204.379991 \nL 309.608769 191.284368 \nL 310.217801 146.324856 \nL 310.370059 120.695207 \nL 310.674575 146.799167 \nL 310.979091 198.535958 \nL 311.131349 201.125942 \nL 311.283607 191.495954 \nL 311.588123 166.945614 \nL 311.740381 162.182794 \nL 312.044896 179.746919 \nL 312.349412 200.929032 \nL 312.50167 199.964409 \nL 312.958444 188.638547 \nL 313.110702 187.648066 \nL 313.567476 203.115556 \nL 313.719734 203.013907 \nL 313.871992 202.659126 \nL 314.02425 201.796344 \nL 314.176508 197.744364 \nL 314.328766 196.845409 \nL 314.481024 192.490556 \nL 314.633282 192.434912 \nL 314.937797 197.041163 \nL 315.090055 198.012727 \nL 315.394571 205.147342 \nL 315.546829 205.009738 \nL 315.699087 204.538295 \nL 315.851345 205.205516 \nL 316.003603 201.970361 \nL 316.308119 201.462794 \nL 316.612635 200.022679 \nL 316.764893 200.950504 \nL 316.917151 200.419248 \nL 317.069409 202.412548 \nL 317.221667 201.695081 \nL 317.373925 202.56584 \nL 317.830698 200.396547 \nL 317.982956 200.311792 \nL 318.135214 200.021306 \nL 318.287472 196.323648 \nL 318.43973 196.913151 \nL 318.591988 198.850181 \nL 318.896504 194.234411 \nL 319.048762 193.650572 \nL 319.20102 189.708818 \nL 319.353278 189.259667 \nL 319.657794 182.747232 \nL 319.810052 182.013354 \nL 320.114568 186.158211 \nL 320.875857 207.408668 \nL 321.028115 207.34471 \nL 321.180373 208.659873 \nL 321.332631 207.27157 \nL 321.789405 199.075745 \nL 322.246179 185.827071 \nL 322.398437 182.467784 \nL 322.550695 182.272656 \nL 322.702953 181.228267 \nL 323.311985 203.173272 \nL 323.6165 209.635895 \nL 323.768758 208.45742 \nL 323.921016 208.186574 \nL 324.225532 204.232723 \nL 324.530048 196.896499 \nL 324.682306 190.159753 \nL 324.834564 188.835915 \nL 324.986822 186.38351 \nL 325.13908 187.506992 \nL 325.291338 186.388161 \nL 325.90037 206.474626 \nL 326.052628 207.155294 \nL 326.204886 210.205829 \nL 326.357143 208.746435 \nL 326.509401 208.858494 \nL 326.966175 196.2073 \nL 327.575207 176.213181 \nL 327.727465 177.246799 \nL 327.879723 179.136499 \nL 328.336497 199.25087 \nL 328.488755 206.52868 \nL 328.641013 207.466818 \nL 328.793271 210.095457 \nL 328.945529 208.787885 \nL 329.097787 210.963926 \nL 329.250044 208.345095 \nL 329.402302 208.481398 \nL 330.011334 197.649993 \nL 330.468108 182.859773 \nL 330.620366 186.030247 \nL 331.07714 199.776607 \nL 331.381656 206.899751 \nL 331.533914 206.641534 \nL 331.686172 202.34818 \nL 331.990688 206.07948 \nL 332.295203 208.339047 \nL 332.447461 207.191876 \nL 332.599719 210.3443 \nL 332.751977 208.176067 \nL 332.904235 209.178863 \nL 333.056493 207.663078 \nL 333.208751 209.755039 \nL 333.513267 205.245496 \nL 333.665525 201.873412 \nL 333.970041 184.514246 \nL 334.426815 130.238415 \nL 334.731331 156.319578 \nL 335.035846 205.420115 \nL 335.188104 208.843384 \nL 335.340362 201.960505 \nL 335.797136 158.241378 \nL 336.101652 169.8016 \nL 336.406168 204.950576 \nL 336.558426 207.371291 \nL 337.0152 182.033621 \nL 337.167458 185.050731 \nL 337.624232 209.104855 \nL 337.77649 210.515521 \nL 338.081005 202.707058 \nL 338.385521 195.496243 \nL 338.690037 197.720771 \nL 338.994553 208.015738 \nL 339.299069 210.602325 \nL 339.603585 208.673368 \nL 340.060359 199.934526 \nL 340.212617 201.153752 \nL 340.364875 200.857796 \nL 340.973906 210.190984 \nL 341.126164 210.816635 \nL 341.278422 212.2701 \nL 341.582938 211.262364 \nL 341.735196 211.008195 \nL 342.039712 209.456239 \nL 342.19197 206.137124 \nL 342.344228 206.567237 \nL 342.648744 202.949732 \nL 343.105518 189.067239 \nL 343.257776 189.740002 \nL 343.410034 187.494123 \nL 344.171323 210.24858 \nL 344.323581 211.144811 \nL 344.628097 210.091336 \nL 344.932613 206.050344 \nL 345.084871 199.642209 \nL 345.389387 196.909247 \nL 345.541645 194.862761 \nL 345.846161 189.061913 \nL 345.998419 187.272777 \nL 346.150677 188.433539 \nL 346.302935 191.936117 \nL 346.60745 205.934671 \nL 346.911966 212.381653 \nL 347.064224 211.924597 \nL 347.520998 207.964794 \nL 347.977772 199.46424 \nL 348.13003 196.513932 \nL 348.586804 183.156717 \nL 348.739062 187.63927 \nL 348.89132 188.483447 \nL 349.652609 212.632111 \nL 349.957125 214.596131 \nL 350.261641 210.919753 \nL 350.413899 208.489278 \nL 350.566157 208.096999 \nL 350.718415 208.888039 \nL 351.175189 202.415729 \nL 351.327447 200.854784 \nL 351.479705 195.405174 \nL 351.631963 195.094397 \nL 351.784221 193.306876 \nL 351.936479 192.848061 \nL 352.088737 191.194528 \nL 352.393252 201.937948 \nL 352.697768 210.055333 \nL 352.850026 209.604277 \nL 353.002284 213.556826 \nL 353.154542 213.431561 \nL 353.3068 214.191249 \nL 353.459058 213.796464 \nL 353.611316 214.756364 \nL 353.763574 214.09042 \nL 353.915832 214.603698 \nL 354.372606 211.119459 \nL 354.524864 207.501882 \nL 354.82938 190.860062 \nL 355.286153 134.057096 \nL 355.590669 154.485594 \nL 355.895185 210.510075 \nL 356.047443 212.075093 \nL 356.047443 212.075093 \n\" style=\"fill:none;stroke:#1f77b4;stroke-linecap:square;stroke-width:1.5;\"/>\n   </g>\n   <g id=\"patch_3\">\n    <path d=\"M 36.465625 224.64 \nL 36.465625 7.2 \n\" style=\"fill:none;stroke:#000000;stroke-linecap:square;stroke-linejoin:miter;stroke-width:0.8;\"/>\n   </g>\n   <g id=\"patch_4\">\n    <path d=\"M 371.265625 224.64 \nL 371.265625 7.2 \n\" style=\"fill:none;stroke:#000000;stroke-linecap:square;stroke-linejoin:miter;stroke-width:0.8;\"/>\n   </g>\n   <g id=\"patch_5\">\n    <path d=\"M 36.465625 224.64 \nL 371.265625 224.64 \n\" style=\"fill:none;stroke:#000000;stroke-linecap:square;stroke-linejoin:miter;stroke-width:0.8;\"/>\n   </g>\n   <g id=\"patch_6\">\n    <path d=\"M 36.465625 7.2 \nL 371.265625 7.2 \n\" style=\"fill:none;stroke:#000000;stroke-linecap:square;stroke-linejoin:miter;stroke-width:0.8;\"/>\n   </g>\n  </g>\n </g>\n <defs>\n  <clipPath id=\"p48fae5d30d\">\n   <rect height=\"217.44\" width=\"334.8\" x=\"36.465625\" y=\"7.2\"/>\n  </clipPath>\n </defs>\n</svg>\n"
          },
          "metadata": {
            "needs_background": "light"
          }
        }
      ]
    },
    {
      "cell_type": "code",
      "source": [
        "predictions = net(Missing_Values).detach().numpy().squeeze()"
      ],
      "metadata": {
        "id": "lJW8E3RQLf1O"
      },
      "execution_count": 238,
      "outputs": []
    },
    {
      "cell_type": "code",
      "source": [
        "Original_Values"
      ],
      "metadata": {
        "id": "6vVDQ_KrLisE",
        "outputId": "fa7c841b-19e3-4aa3-c2c4-f7734fe21295",
        "colab": {
          "base_uri": "https://localhost:8080/"
        }
      },
      "execution_count": 239,
      "outputs": [
        {
          "output_type": "execute_result",
          "data": {
            "text/plain": [
              "754     1.7\n",
              "643     2.3\n",
              "772     2.3\n",
              "13      1.6\n",
              "1495    1.9\n",
              "1059    4.0\n",
              "51      2.2\n",
              "1108    3.3\n",
              "63      2.0\n",
              "880     1.6\n",
              "Name: residual sugar, dtype: float64"
            ]
          },
          "metadata": {},
          "execution_count": 239
        }
      ]
    },
    {
      "cell_type": "code",
      "source": [
        "predictions"
      ],
      "metadata": {
        "id": "wTAx8ktuMOEx",
        "outputId": "28b7b9bb-2690-4399-dc15-29407809f038",
        "colab": {
          "base_uri": "https://localhost:8080/"
        }
      },
      "execution_count": 240,
      "outputs": [
        {
          "output_type": "execute_result",
          "data": {
            "text/plain": [
              "array([1.627565 , 2.3112383, 2.4932835, 1.8172024, 2.0640018, 4.214097 ,\n",
              "       2.12109  , 3.5898309, 2.16991  , 1.5848409], dtype=float32)"
            ]
          },
          "metadata": {},
          "execution_count": 240
        }
      ]
    },
    {
      "cell_type": "code",
      "source": [
        "from sklearn.metrics import r2_score"
      ],
      "metadata": {
        "id": "0wkOV7jlMPT5"
      },
      "execution_count": 241,
      "outputs": []
    },
    {
      "cell_type": "code",
      "source": [
        "r2_score(predictions,Original_Values)"
      ],
      "metadata": {
        "id": "rjnuz16eMZII",
        "outputId": "5741bf34-93b9-48db-f396-21af29805d76",
        "colab": {
          "base_uri": "https://localhost:8080/"
        }
      },
      "execution_count": 242,
      "outputs": [
        {
          "output_type": "execute_result",
          "data": {
            "text/plain": [
              "0.9570666880109098"
            ]
          },
          "metadata": {},
          "execution_count": 242
        }
      ]
    },
    {
      "cell_type": "code",
      "source": [
        ""
      ],
      "metadata": {
        "id": "LVQTQZNAQqzg"
      },
      "execution_count": null,
      "outputs": []
    }
  ]
}